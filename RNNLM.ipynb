{
 "cells": [
  {
   "cell_type": "markdown",
   "metadata": {},
   "source": [
    "# Recurrent Neural Networks Tutorial, Part 2 – Implementing a Language Model RNN with Python, Numpy and Theano"
   ]
  },
  {
   "cell_type": "code",
   "execution_count": 1,
   "metadata": {},
   "outputs": [],
   "source": [
    "import csv\n",
    "import itertools\n",
    "import operator\n",
    "import numpy as np\n",
    "import nltk\n",
    "import sys\n",
    "from datetime import datetime\n",
    "from utils import *\n",
    "\n",
    "import matplotlib.pyplot as plt\n",
    "%matplotlib inline"
   ]
  },
  {
   "cell_type": "code",
   "execution_count": 2,
   "metadata": {},
   "outputs": [
    {
     "name": "stdout",
     "output_type": "stream",
     "text": [
      "[nltk_data] Downloading collection u'book'\n",
      "[nltk_data]    | \n",
      "[nltk_data]    | Downloading package abc to /home/aerin/nltk_data...\n",
      "[nltk_data]    |   Package abc is already up-to-date!\n",
      "[nltk_data]    | Downloading package brown to /home/aerin/nltk_data...\n",
      "[nltk_data]    |   Package brown is already up-to-date!\n",
      "[nltk_data]    | Downloading package chat80 to\n",
      "[nltk_data]    |     /home/aerin/nltk_data...\n",
      "[nltk_data]    |   Package chat80 is already up-to-date!\n",
      "[nltk_data]    | Downloading package cmudict to\n",
      "[nltk_data]    |     /home/aerin/nltk_data...\n",
      "[nltk_data]    |   Package cmudict is already up-to-date!\n",
      "[nltk_data]    | Downloading package conll2000 to\n",
      "[nltk_data]    |     /home/aerin/nltk_data...\n",
      "[nltk_data]    |   Package conll2000 is already up-to-date!\n",
      "[nltk_data]    | Downloading package conll2002 to\n",
      "[nltk_data]    |     /home/aerin/nltk_data...\n",
      "[nltk_data]    |   Package conll2002 is already up-to-date!\n",
      "[nltk_data]    | Downloading package dependency_treebank to\n",
      "[nltk_data]    |     /home/aerin/nltk_data...\n",
      "[nltk_data]    |   Package dependency_treebank is already up-to-date!\n",
      "[nltk_data]    | Downloading package genesis to\n",
      "[nltk_data]    |     /home/aerin/nltk_data...\n",
      "[nltk_data]    |   Package genesis is already up-to-date!\n",
      "[nltk_data]    | Downloading package gutenberg to\n",
      "[nltk_data]    |     /home/aerin/nltk_data...\n",
      "[nltk_data]    |   Package gutenberg is already up-to-date!\n",
      "[nltk_data]    | Downloading package ieer to /home/aerin/nltk_data...\n",
      "[nltk_data]    |   Package ieer is already up-to-date!\n",
      "[nltk_data]    | Downloading package inaugural to\n",
      "[nltk_data]    |     /home/aerin/nltk_data...\n",
      "[nltk_data]    |   Package inaugural is already up-to-date!\n",
      "[nltk_data]    | Downloading package movie_reviews to\n",
      "[nltk_data]    |     /home/aerin/nltk_data...\n",
      "[nltk_data]    |   Package movie_reviews is already up-to-date!\n",
      "[nltk_data]    | Downloading package nps_chat to\n",
      "[nltk_data]    |     /home/aerin/nltk_data...\n",
      "[nltk_data]    |   Package nps_chat is already up-to-date!\n",
      "[nltk_data]    | Downloading package names to /home/aerin/nltk_data...\n",
      "[nltk_data]    |   Package names is already up-to-date!\n",
      "[nltk_data]    | Downloading package ppattach to\n",
      "[nltk_data]    |     /home/aerin/nltk_data...\n",
      "[nltk_data]    |   Package ppattach is already up-to-date!\n",
      "[nltk_data]    | Downloading package reuters to\n",
      "[nltk_data]    |     /home/aerin/nltk_data...\n",
      "[nltk_data]    |   Package reuters is already up-to-date!\n",
      "[nltk_data]    | Downloading package senseval to\n",
      "[nltk_data]    |     /home/aerin/nltk_data...\n",
      "[nltk_data]    |   Package senseval is already up-to-date!\n",
      "[nltk_data]    | Downloading package state_union to\n",
      "[nltk_data]    |     /home/aerin/nltk_data...\n",
      "[nltk_data]    |   Package state_union is already up-to-date!\n",
      "[nltk_data]    | Downloading package stopwords to\n",
      "[nltk_data]    |     /home/aerin/nltk_data...\n",
      "[nltk_data]    |   Package stopwords is already up-to-date!\n",
      "[nltk_data]    | Downloading package swadesh to\n",
      "[nltk_data]    |     /home/aerin/nltk_data...\n",
      "[nltk_data]    |   Package swadesh is already up-to-date!\n",
      "[nltk_data]    | Downloading package timit to /home/aerin/nltk_data...\n",
      "[nltk_data]    |   Package timit is already up-to-date!\n",
      "[nltk_data]    | Downloading package treebank to\n",
      "[nltk_data]    |     /home/aerin/nltk_data...\n",
      "[nltk_data]    |   Package treebank is already up-to-date!\n",
      "[nltk_data]    | Downloading package toolbox to\n",
      "[nltk_data]    |     /home/aerin/nltk_data...\n",
      "[nltk_data]    |   Package toolbox is already up-to-date!\n",
      "[nltk_data]    | Downloading package udhr to /home/aerin/nltk_data...\n",
      "[nltk_data]    |   Package udhr is already up-to-date!\n",
      "[nltk_data]    | Downloading package udhr2 to /home/aerin/nltk_data...\n",
      "[nltk_data]    |   Package udhr2 is already up-to-date!\n",
      "[nltk_data]    | Downloading package unicode_samples to\n",
      "[nltk_data]    |     /home/aerin/nltk_data...\n",
      "[nltk_data]    |   Package unicode_samples is already up-to-date!\n",
      "[nltk_data]    | Downloading package webtext to\n",
      "[nltk_data]    |     /home/aerin/nltk_data...\n",
      "[nltk_data]    |   Package webtext is already up-to-date!\n",
      "[nltk_data]    | Downloading package wordnet to\n",
      "[nltk_data]    |     /home/aerin/nltk_data...\n",
      "[nltk_data]    |   Package wordnet is already up-to-date!\n",
      "[nltk_data]    | Downloading package wordnet_ic to\n",
      "[nltk_data]    |     /home/aerin/nltk_data...\n",
      "[nltk_data]    |   Package wordnet_ic is already up-to-date!\n",
      "[nltk_data]    | Downloading package words to /home/aerin/nltk_data...\n",
      "[nltk_data]    |   Package words is already up-to-date!\n",
      "[nltk_data]    | Downloading package maxent_treebank_pos_tagger to\n",
      "[nltk_data]    |     /home/aerin/nltk_data...\n",
      "[nltk_data]    |   Package maxent_treebank_pos_tagger is already up-\n",
      "[nltk_data]    |       to-date!\n",
      "[nltk_data]    | Downloading package maxent_ne_chunker to\n",
      "[nltk_data]    |     /home/aerin/nltk_data...\n",
      "[nltk_data]    |   Package maxent_ne_chunker is already up-to-date!\n",
      "[nltk_data]    | Downloading package universal_tagset to\n",
      "[nltk_data]    |     /home/aerin/nltk_data...\n",
      "[nltk_data]    |   Package universal_tagset is already up-to-date!\n",
      "[nltk_data]    | Downloading package punkt to /home/aerin/nltk_data...\n",
      "[nltk_data]    |   Package punkt is already up-to-date!\n",
      "[nltk_data]    | Downloading package book_grammars to\n",
      "[nltk_data]    |     /home/aerin/nltk_data...\n",
      "[nltk_data]    |   Package book_grammars is already up-to-date!\n",
      "[nltk_data]    | Downloading package city_database to\n",
      "[nltk_data]    |     /home/aerin/nltk_data...\n",
      "[nltk_data]    |   Package city_database is already up-to-date!\n",
      "[nltk_data]    | Downloading package tagsets to\n",
      "[nltk_data]    |     /home/aerin/nltk_data...\n",
      "[nltk_data]    |   Package tagsets is already up-to-date!\n",
      "[nltk_data]    | Downloading package panlex_swadesh to\n",
      "[nltk_data]    |     /home/aerin/nltk_data...\n",
      "[nltk_data]    |   Package panlex_swadesh is already up-to-date!\n",
      "[nltk_data]    | Downloading package averaged_perceptron_tagger to\n",
      "[nltk_data]    |     /home/aerin/nltk_data...\n",
      "[nltk_data]    |   Package averaged_perceptron_tagger is already up-\n",
      "[nltk_data]    |       to-date!\n",
      "[nltk_data]    | \n",
      "[nltk_data]  Done downloading collection book\n"
     ]
    },
    {
     "data": {
      "text/plain": [
       "True"
      ]
     },
     "execution_count": 2,
     "metadata": {},
     "output_type": "execute_result"
    }
   ],
   "source": [
    "# Download NLTK model data (you need to do this once)\n",
    "nltk.download(\"book\")"
   ]
  },
  {
   "cell_type": "markdown",
   "metadata": {},
   "source": [
    "#### This the second part of the Recurrent Neural Network Tutorial. [The first part is here](http://www.wildml.com/2015/09/recurrent-neural-networks-tutorial-part-1-introduction-to-rnns/).\n",
    "\n",
    "In this part we will implement a full Recurrent Neural Network from scratch using Python and optimize our implementation using [Theano](http://deeplearning.net/software/theano/), a library to perform operations on a GPU. **[The full code is available on Github](https://github.com/dennybritz/rnn-tutorial-rnnlm/)**. I will skip over some boilerplate code that is not essential to understanding Recurrent Neural Networks, but all of that is also [on Github](https://github.com/dennybritz/rnn-tutorial-rnnlm)."
   ]
  },
  {
   "cell_type": "markdown",
   "metadata": {},
   "source": [
    "### Language Modeling\n",
    "\n",
    "Our goal is to build a [Language Model](https://en.wikipedia.org/wiki/Language_model) using a Recurrent Neural Network. Here's what that means. Let's say we have sentence  of $m$ words. Language Model allows us to predict the probability of observing the sentence (in a given dataset) as:\n",
    "\n",
    "$\n",
    "\\begin{aligned}\n",
    "P(w_1,...,w_m) = \\prod_{i=1}^{m}P(w_i \\mid w_1,..., w_{i-1}) \n",
    "\\end{aligned}\n",
    "$\n",
    "\n",
    "In words, the probability of a sentence is the product of probabilities of each word given the words that came before it. So, the probability of the sentence \"He went to buy some chocolate\" would be the probability of \"chocolate\" given \"He went to buy some\", multiplied by the probability of \"some\" given \"He went to buy\", and so on. \n",
    "\n",
    "Why is that useful? Why would we want to assign a probability to observing a sentence?\n",
    "\n",
    "First, such a model can be used as a scoring mechanism. For example, a Machine Translation system typically generates multiple candidates for an input sentence. You could use a language model to pick the most probable sentence. Intuitively, the most probable sentence is likely to be grammatically correct. Similar scoring happens in speech recognition systems.\n",
    "\n",
    "But solving the Language Modeling problem also has a cool side effect. Because we can predict the probability of a word given the preceding words, we are able to generate new text. It's a *generative model*. Given an existing sequence of words we sample a next word from the predicted probabilities, and repeat the process until we have a full sentence. Andrew Karparthy [has a great post](http://karpathy.github.io/2015/05/21/rnn-effectiveness/) that demonstrates what language models are capable of. His models are trained on single characters as opposed to full words, and can generate anything from Shakespeare to Linux Code.\n",
    "\n",
    "Note that in the above equation the probability of each word is conditioned on **all** previous words. In practice, many models have a hard time representing such long-term dependencies due to computational or memory constraints. They are typically limited to looking at only a few of the previous words. RNNs can, in theory, capture such long-term dependencies, but in practice it's a bit more complex. We'll explore that in a later post."
   ]
  },
  {
   "cell_type": "markdown",
   "metadata": {},
   "source": [
    "### Training Data and Preprocessing\n",
    "\n",
    "To train our language model we need text to learn from. Fortunately we don't need any labels to train a language model, just raw text. I downloaded 15,000 longish reddit comments from a [dataset available on Google's BigQuery](https://bigquery.cloud.google.com/table/fh-bigquery:reddit_comments.2015_08). Text generated by our model will sound like reddit commenters (hopefully)! But as with most Machine Learning projects we first need to do some pre-processing to get our data into the right format.\n",
    "\n",
    "#### 1. Tokenize Text\n",
    "\n",
    "We have raw text, but we want to make predictions on a per-word basis. This means we must *tokenize* our comments into sentences, and sentences into words. We could just split each of the comments by spaces, but that wouldn't handle punctuation properly. The sentence \"He left!\" should be 3 tokens: \"He\", \"left\", \"!\". We'll use [NLTK's](http://www.nltk.org/) `word_tokenize` and `sent_tokenize` methods, which do most of the hard work for us.\n",
    "\n",
    "#### 2. Remove infrequent words\n",
    "\n",
    "Most words in our text will only appear one or two times. It's a good idea to remove these infrequent words. Having a huge vocabulary will make our model slow to train (we'll talk about why that is later), and because we don't have a lot of contextual examples for such words we wouldn't be able to learn how to use them correctly anyway. That's quite similar to how humans learn. To really understand how to appropriately use a word you need to have seen it in different contexts.\n",
    "\n",
    "In our code we limit our vocabulary to the `vocabulary_size` most common words (which I set to 8000, but feel free to change it). We replace all words not included in our vocabulary by `UNKNOWN_TOKEN`. For example, if we don't include the word \"nonlinearities\" in our vocabulary, the sentence \"nonlineraties are important in neural networks\" becomes \"UNKNOWN_TOKEN are important in Neural Networks\". The word `UNKNOWN_TOKEN` will become part of our vocabulary and we will predict it just like any other word. When we generate new text we can replace `UNKNOWN_TOKEN` again, for example by taking a randomly sampled word not in our vocabulary, or we could just generate sentences until we get one that doesn't contain an unknown token.\n",
    "\n",
    "#### 3. Prepend special start and end tokens\n",
    "\n",
    "We also want to learn which words tend start and end a sentence. To do this we prepend a special `SENTENCE_START` token, and append a special `SENTENCE_END` token to each sentence. This allows us to ask: Given that the first token is `SENTENCE_START`, what is the likely next word (the actual first word of the sentence)?\n",
    "\n",
    "\n",
    "#### 4. Build training data matrices\n",
    "\n",
    "The input to our Recurrent Neural Networks are vectors, not strings. So we create a mapping between words and indices, `index_to_word`, and `word_to_index`. For example,  the word \"friendly\" may be at index 2001. A training example $x$ may look like `[0, 179, 341, 416]`, where 0 corresponds to `SENTENCE_START`. The corresponding label $y$ would be `[179, 341, 416, 1]`. Remember that our goal is to predict the next word, so y is just the x vector shifted by one position with the last element being the `SENTENCE_END` token. In other words, the correct prediction for word `179` above would be `341`, the actual next word."
   ]
  },
  {
   "cell_type": "code",
   "execution_count": 13,
   "metadata": {},
   "outputs": [
    {
     "name": "stdout",
     "output_type": "stream",
     "text": [
      "Reading CSV file...\n",
      "Parsed 79170 sentences.\n",
      "Found 65498 unique words tokens.\n",
      "Using vocabulary size 8000.\n",
      "The least frequent word in our vocabulary is 'traction' and appeared 10 times.\n",
      "\n",
      "Example sentence: 'SENTENCE_START i joined a new league this year and they have different scoring rules than i'm used to. SENTENCE_END'\n",
      "\n",
      "Example sentence after Pre-processing: '[u'SENTENCE_START', u'i', u'joined', u'a', u'new', u'league', u'this', u'year', u'and', u'they', u'have', u'different', u'scoring', u'rules', u'than', u'i', u\"'m\", u'used', u'to', u'.', u'SENTENCE_END']'\n"
     ]
    }
   ],
   "source": [
    "word_dim=8000\n",
    "vocabulary_size = 8000\n",
    "unknown_token = \"UNKNOWN_TOKEN\"\n",
    "sentence_start_token = \"SENTENCE_START\"\n",
    "sentence_end_token = \"SENTENCE_END\"\n",
    "\n",
    "# Read the data and append SENTENCE_START and SENTENCE_END tokens\n",
    "print \"Reading CSV file...\"\n",
    "with open('data/reddit-comments-2015-08.csv', 'rb') as f:\n",
    "    reader = csv.reader(f, skipinitialspace=True)\n",
    "    reader.next()\n",
    "    # Split full comments into sentences\n",
    "    sentences = itertools.chain(*[nltk.sent_tokenize(x[0].decode('utf-8').lower()) for x in reader])\n",
    "    # Append SENTENCE_START and SENTENCE_END\n",
    "    sentences = [\"%s %s %s\" % (sentence_start_token, x, sentence_end_token) for x in sentences]\n",
    "print \"Parsed %d sentences.\" % (len(sentences))\n",
    "    \n",
    "# Tokenize the sentences into words\n",
    "tokenized_sentences = [nltk.word_tokenize(sent) for sent in sentences]\n",
    "\n",
    "# Count the word frequencies\n",
    "word_freq = nltk.FreqDist(itertools.chain(*tokenized_sentences))\n",
    "print \"Found %d unique words tokens.\" % len(word_freq.items())\n",
    "\n",
    "# Get the most common words and build index_to_word and word_to_index vectors\n",
    "vocab = word_freq.most_common(vocabulary_size-1)\n",
    "index_to_word = [x[0] for x in vocab]\n",
    "index_to_word.append(unknown_token)\n",
    "word_to_index = dict([(w,i) for i,w in enumerate(index_to_word)])\n",
    "\n",
    "print \"Using vocabulary size %d.\" % vocabulary_size\n",
    "print \"The least frequent word in our vocabulary is '%s' and appeared %d times.\" % (vocab[-1][0], vocab[-1][1])\n",
    "\n",
    "# Replace all words not in our vocabulary with the unknown token\n",
    "for i, sent in enumerate(tokenized_sentences):\n",
    "    tokenized_sentences[i] = [w if w in word_to_index else unknown_token for w in sent]\n",
    "\n",
    "print \"\\nExample sentence: '%s'\" % sentences[0]\n",
    "print \"\\nExample sentence after Pre-processing: '%s'\" % tokenized_sentences[0]\n"
   ]
  },
  {
   "cell_type": "code",
   "execution_count": 14,
   "metadata": {},
   "outputs": [
    {
     "name": "stdout",
     "output_type": "stream",
     "text": [
      "\n",
      "Example sentence after Pre-processing: '[u'SENTENCE_START', u'it', u\"'s\", u'a', u'slight', u'ppr', 'UNKNOWN_TOKEN', 'UNKNOWN_TOKEN', u'ppr', u'.', u'SENTENCE_END']'\n",
      "\n",
      "Example sentence after Pre-processing: '[u'SENTENCE_START', u'standard', u'besides', u'1', u'points', u'for', u'15', u'yards', u'receiving', u',', 'UNKNOWN_TOKEN', u'points', u'per', u'completion', u',', u'6', u'points', u'per', u'td', u'thrown', u',', u'and', u'some', u'bonuses', u'for', 'UNKNOWN_TOKEN', 'UNKNOWN_TOKEN', u'.', u'SENTENCE_END']'\n",
      "\n",
      "Example sentence after Pre-processing: '[u'SENTENCE_START', u'my', u'question', u'is', u',', u'is', u'it', u'wildly', u'clear', u'that', u'qb', u'has', u'the', u'highest', u'potential', u'for', u'points', u'?', u'SENTENCE_END']'\n",
      "\n",
      "Example sentence after Pre-processing: '[u'SENTENCE_START', u'i', u'put', u'in', u'the', u'rules', u'at', u'a', u'ranking', u'site', u'and', u'noticed', u'that', u'top', u'qbs', u'had', u'300', u'points', u'more', u'than', u'the', u'top', 'UNKNOWN_TOKEN', u'.', u'SENTENCE_END']'\n"
     ]
    }
   ],
   "source": [
    "print \"\\nExample sentence after Pre-processing: '%s'\" % tokenized_sentences[1]\n",
    "print \"\\nExample sentence after Pre-processing: '%s'\" % tokenized_sentences[2]\n",
    "print \"\\nExample sentence after Pre-processing: '%s'\" % tokenized_sentences[3]\n",
    "print \"\\nExample sentence after Pre-processing: '%s'\" % tokenized_sentences[4]\n"
   ]
  },
  {
   "cell_type": "code",
   "execution_count": 15,
   "metadata": {},
   "outputs": [],
   "source": [
    "# Create the training data\n",
    "X_train = np.asarray([[word_to_index[w] for w in sent[:-1]] for sent in tokenized_sentences])\n",
    "y_train = np.asarray([[word_to_index[w] for w in sent[1:]] for sent in tokenized_sentences])"
   ]
  },
  {
   "cell_type": "markdown",
   "metadata": {},
   "source": [
    "Here's an actual training example from our text:"
   ]
  },
  {
   "cell_type": "code",
   "execution_count": 16,
   "metadata": {},
   "outputs": [
    {
     "name": "stdout",
     "output_type": "stream",
     "text": [
      "x:\n",
      "SENTENCE_START what are n't you understanding about this ? !\n",
      "[0, 51, 27, 16, 10, 861, 54, 25, 34, 69]\n",
      "\n",
      "y:\n",
      "what are n't you understanding about this ? ! SENTENCE_END\n",
      "[51, 27, 16, 10, 861, 54, 25, 34, 69, 1]\n"
     ]
    }
   ],
   "source": [
    "# Print an training data example\n",
    "x_example, y_example = X_train[17], y_train[17]\n",
    "print \"x:\\n%s\\n%s\" % (\" \".join([index_to_word[x] for x in x_example]), x_example)\n",
    "print \"\\ny:\\n%s\\n%s\" % (\" \".join([index_to_word[x] for x in y_example]), y_example)"
   ]
  },
  {
   "cell_type": "markdown",
   "metadata": {},
   "source": [
    "#### Building the RNN\n",
    "\n",
    "For a general overview of RNNs take a look at [first part of the tutorial](http://www.wildml.com/2015/09/recurrent-neural-networks-tutorial-part-1-introduction-to-rnns/).\n",
    "\n",
    "![](http://www.wildml.com/wp-content/uploads/2015/09/rnn.jpg)\n",
    "\n",
    "Let's get concrete and see what the RNN for our language model looks like. The input $x$ will be a sequence of words (just like the example printed above) and each $x_t$ is a single word. But there's one more thing: Because of how matrix multiplication works we can't simply use a word index (like 36) as an input. Instead, we represent each word as a *one-hot vector* of size `vocabulary_size`. For example, the word with index 36 would be the vector of all 0's and a 1 at position 36. So, each $x_t$ will become a vector, and $x$ will be a matrix, with each row representing a word. We'll perform this transformation in our Neural Network code instead of doing it in the pre-processing. The output of our network $o$ has a similar format. Each $o_t$ is a vector of `vocabulary_size` elements, and each element represents the probability of that word being the next word in the sentence.\n",
    "\n",
    "Let's recap the equations for the RNN from the first part of the tutorial:\n",
    "\n",
    "$\n",
    "\\begin{aligned}\n",
    "s_t &= \\tanh(Ux_t + Ws_{t-1}) \\\\\n",
    "o_t &= \\mathrm{softmax}(Vs_t)\n",
    "\\end{aligned}\n",
    "$\n",
    "\n",
    "I always find it useful to write down the dimensions of the matrices and vectors. Let's assume we pick a vocabulary size $C = 8000$ and a hidden layer size $H = 100$. You can think of the hidden layer size as the \"memory\" of our network. Making it bigger allows us to learn more complex patterns, but also results in additional computation. Then we have:\n",
    "\n",
    "$\n",
    "\\begin{aligned}\n",
    "x_t & \\in \\mathbb{R}^{8000} \\\\\n",
    "o_t & \\in \\mathbb{R}^{8000} \\\\\n",
    "s_t & \\in \\mathbb{R}^{100} \\\\\n",
    "U & \\in \\mathbb{R}^{100 \\times 8000} \\\\\n",
    "V & \\in \\mathbb{R}^{8000 \\times 100} \\\\\n",
    "W & \\in \\mathbb{R}^{100 \\times 100} \\\\\n",
    "\\end{aligned}\n",
    "$\n",
    "\n",
    "This is valuable information. Remember that $U,V$ and $W$ are the parameters of our network we want to learn from data. Thus, we need to learn a total of $2HC + H^2$ parameters. In the case of $C=8000$ and $H=100$ that's 1,610,000.  The dimensions also tell us the bottleneck of our model. Note that because $x_t$ is a one-hot vector, multiplying it with $U$ is essentially the same as selecting a column of U, so we don't need to perform the full multiplication. Then, the biggest matrix multiplication in our network is $Vs_t$. That's why we want to keep our vocabulary size small if possible.\n",
    "\n",
    "Armed with this, it's time to start our implementation."
   ]
  },
  {
   "cell_type": "markdown",
   "metadata": {},
   "source": [
    "#### Initialization\n",
    "\n",
    "We start by declaring a RNN class an initializing our parameters. I'm calling this class `RNNNumpy` because we will implement a Theano version later. Initializing the parameters $U,V$ and $W$ is a bit tricky. We can't just initialize them to 0's because that would result in symmetric calculations in all our layers. We must initialize them randomly. Because proper initialization seems to have an impact on training results there has been lot of research in this area. It turns out that the best initialization depends on the activation function ($\\tanh$ in our case) and one [recommended](http://jmlr.org/proceedings/papers/v9/glorot10a/glorot10a.pdf) approach is to initialize the weights randomly in the interval from $\\left[-\\frac{1}{\\sqrt{n}}, \\frac{1}{\\sqrt{n}}\\right]$ where $n$ is the number of incoming connections from the previous layer. This may sound overly complicated, but don't worry too much about it. As long as you initialize your parameters to small random values it typically works out fine."
   ]
  },
  {
   "cell_type": "code",
   "execution_count": 17,
   "metadata": {},
   "outputs": [],
   "source": [
    "class RNNNumpy:\n",
    "    \n",
    "    def __init__(self, vocab_size, hidden_dim=100, bptt_truncate=4):\n",
    "        # Assign instance variables\n",
    "        self.word_dim = vocab_size\n",
    "        self.hidden_dim = hidden_dim\n",
    "        self.bptt_truncate = bptt_truncate\n",
    "        # Randomly initialize the network parameters\n",
    "        self.U = np.random.uniform(-np.sqrt(1./word_dim), np.sqrt(1./word_dim), (hidden_dim, word_dim))\n",
    "        self.V = np.random.uniform(-np.sqrt(1./hidden_dim), np.sqrt(1./hidden_dim), (word_dim, hidden_dim))\n",
    "        self.W = np.random.uniform(-np.sqrt(1./hidden_dim), np.sqrt(1./hidden_dim), (hidden_dim, hidden_dim))\n",
    "        "
   ]
  },
  {
   "cell_type": "markdown",
   "metadata": {},
   "source": [
    "Above, `word_dim` is the size of our vocabulary, and `hidden_dim` is the size of our hidden layer (we can pick it). Don't worry about the `bptt_truncate` parameter for now, we'll explain what that is later."
   ]
  },
  {
   "cell_type": "markdown",
   "metadata": {},
   "source": [
    "#### Forward Propagation\n",
    "\n",
    "Next, let's implement the forward propagation (predicting word probabilities) defined by our equations above:"
   ]
  },
  {
   "cell_type": "code",
   "execution_count": 18,
   "metadata": {},
   "outputs": [],
   "source": [
    "def forward_propagation(self, x):\n",
    "    # The total number of time steps\n",
    "    T = len(x)\n",
    "    # During forward propagation we save all hidden states in s because need them later.\n",
    "    # We add one additional element for the initial hidden, which we set to 0\n",
    "    s = np.zeros((T + 1, self.hidden_dim)) # bias term. 45+1\n",
    "    s[-1] = np.zeros(self.hidden_dim) \n",
    "    # The outputs at each time step. Again, we save them for later.\n",
    "    o = np.zeros((T, self.word_dim))\n",
    "    # For each time step...\n",
    "    for t in np.arange(T):\n",
    "        # Note that we are indxing U by x[t]. This is the same as multiplying U with a one-hot vector.\n",
    "        s[t] = np.tanh(self.U[:,x[t]] + self.W.dot(s[t-1]))\n",
    "        o[t] = softmax(self.V.dot(s[t]))\n",
    "        #print \"s[\",t,\"]\", s\n",
    "        #print \"s[\",t,\"]\", o\n",
    "    return [o, s]\n",
    "\n",
    "RNNNumpy.forward_propagation = forward_propagation"
   ]
  },
  {
   "cell_type": "code",
   "execution_count": 19,
   "metadata": {},
   "outputs": [
    {
     "data": {
      "text/plain": [
       "(46, 100)"
      ]
     },
     "execution_count": 19,
     "metadata": {},
     "output_type": "execute_result"
    }
   ],
   "source": [
    "# Check forward_propagation function line by line\n",
    "x = X_train[10]\n",
    "T = len(x)\n",
    "T\n",
    "s = np.zeros((T + 1, 100))\n",
    "s[-1] = np.zeros(100) \n",
    "s.shape"
   ]
  },
  {
   "cell_type": "markdown",
   "metadata": {},
   "source": [
    "We not only return the calculated outputs, but also the hidden states. We will use them later to calculate the gradients, and by returning them here we avoid duplicate computation. Each $o_t$ is a vector of probabilities representing the words in our vocabulary, but sometimes, for example when evaluating our model, all we want is the next word with the highest probability. We call this function `predict`:"
   ]
  },
  {
   "cell_type": "code",
   "execution_count": 20,
   "metadata": {},
   "outputs": [],
   "source": [
    "def predict(self, x):\n",
    "    # Perform forward propagation and return index of the highest score\n",
    "    o, s = self.forward_propagation(x)\n",
    "    return np.argmax(o, axis=1)\n",
    "\n",
    "RNNNumpy.predict = predict"
   ]
  },
  {
   "cell_type": "markdown",
   "metadata": {},
   "source": [
    "Let's try our newly implemented methods and see an example output:"
   ]
  },
  {
   "cell_type": "code",
   "execution_count": 21,
   "metadata": {},
   "outputs": [
    {
     "name": "stdout",
     "output_type": "stream",
     "text": [
      "(45, 8000)\n",
      "[[ 0.00012408  0.0001244   0.00012603 ...,  0.00012515  0.00012488\n",
      "   0.00012508]\n",
      " [ 0.00012536  0.00012582  0.00012436 ...,  0.00012482  0.00012456\n",
      "   0.00012451]\n",
      " [ 0.00012387  0.0001252   0.00012474 ...,  0.00012559  0.00012588\n",
      "   0.00012551]\n",
      " ..., \n",
      " [ 0.00012406  0.00012463  0.00012539 ...,  0.00012617  0.00012463\n",
      "   0.00012589]\n",
      " [ 0.00012547  0.00012431  0.00012485 ...,  0.00012427  0.00012611\n",
      "   0.00012472]\n",
      " [ 0.00012482  0.00012529  0.00012477 ...,  0.00012488  0.00012508\n",
      "   0.0001267 ]]\n"
     ]
    }
   ],
   "source": [
    "np.random.seed(10)\n",
    "model = RNNNumpy(vocabulary_size)\n",
    "o, s = model.forward_propagation(X_train[10])\n",
    "print o.shape\n",
    "print o"
   ]
  },
  {
   "cell_type": "markdown",
   "metadata": {},
   "source": [
    "For each word in the sentence (45 above), our model made 8000 predictions representing probabilities of the next word. Note that because we initialized $U,V,W$ to random values these predictions are completely random right now. The following gives the indices of the highest probability predictions for each word:"
   ]
  },
  {
   "cell_type": "code",
   "execution_count": 22,
   "metadata": {},
   "outputs": [
    {
     "name": "stdout",
     "output_type": "stream",
     "text": [
      "[0, 72, 63, 13, 124, 5, 26, 1131, 208, 5, 324, 3, 333, 4, 112, 32, 75, 7, 4924, 4, 8, 84, 52, 9, 7, 3220, 1022, 491, 7927, 8, 133, 49, 3144, 4, 10, 95, 51, 4, 128, 17, 37, 314, 578, 2, 40]\n",
      "79170\n",
      "45\n",
      "15\n"
     ]
    }
   ],
   "source": [
    "print X_train[10]\n",
    "print len(X_train)\n",
    "print len(X_train[10])\n",
    "print len(X_train[11])"
   ]
  },
  {
   "cell_type": "code",
   "execution_count": 23,
   "metadata": {},
   "outputs": [
    {
     "name": "stdout",
     "output_type": "stream",
     "text": [
      "(45,)\n",
      "[1284 5221 7653 7430 1013 3562 7366 1627 7290 3251 7299 6722  565  238 2539\n",
      "   21 6548  261 5274 2082 1835 5376 3522  477 7051 7352 7715 3822 6914 5059\n",
      " 3850 6176  743 2082 5561 2182 6569 2800 2752 6821 4437 7021 6399 6912 3922]\n"
     ]
    }
   ],
   "source": [
    "predictions = model.predict(X_train[10])\n",
    "print predictions.shape\n",
    "print predictions"
   ]
  },
  {
   "cell_type": "markdown",
   "metadata": {},
   "source": [
    "#### Calculating the Loss\n",
    "\n",
    "To train our network we need a way to measure the errors it makes. We call this the loss function $L$, and our goal is find the parameters $U,V$ and $W$ that minimize the loss function for our training data. A common choice for the loss function is the [cross-entropy loss](https://en.wikipedia.org/wiki/Cross_entropy#Cross-entropy_error_function_and_logistic_regression). If we have $N$ training examples (words in our text) and $C$ classes (the size of our vocabulary) then the loss with respect to our predictions $o$ and the true labels $y$ is given by:\n",
    "\n",
    "$\n",
    "\\begin{aligned}\n",
    "L(y,o) = - \\frac{1}{N} \\sum_{n \\in N} y_{n} \\log o_{n}\n",
    "\\end{aligned}\n",
    "$\n",
    "\n",
    "The formula looks a bit complicated, but all it really does is sum over our training examples and add to the loss based on how off our prediction are. The further away $y$ (the correct words) and $o$ (our predictions), the greater the loss will be. We implement the function `calculate_loss`:"
   ]
  },
  {
   "cell_type": "code",
   "execution_count": 24,
   "metadata": {},
   "outputs": [],
   "source": [
    "def calculate_total_loss(self, x, y):\n",
    "    L = 0\n",
    "    # For each sentence...\n",
    "    for i in np.arange(len(y)):\n",
    "        o, s = self.forward_propagation(x[i])\n",
    "        # We only care about our prediction of the \"correct\" words\n",
    "        correct_word_predictions = o[np.arange(len(y[i])), y[i]]\n",
    "        # Add to the loss based on how off we were\n",
    "        L += -1 * np.sum(np.log(correct_word_predictions))\n",
    "    return L\n",
    "\n",
    "def calculate_loss(self, x, y):\n",
    "    # Divide the total loss by the number of training examples\n",
    "    N = np.sum((len(y_i) for y_i in y))\n",
    "    return self.calculate_total_loss(x,y)/N\n",
    "\n",
    "RNNNumpy.calculate_total_loss = calculate_total_loss\n",
    "RNNNumpy.calculate_loss = calculate_loss"
   ]
  },
  {
   "cell_type": "markdown",
   "metadata": {},
   "source": [
    "Let's take a step back and think about what the loss should be for random predictions. That will give us a baseline and make sure our implementation is correct. We have $C$ words in our vocabulary, so each word should be (on average) predicted with probability $1/C$, which would yield a loss of $L = -\\frac{1}{N} N \\log\\frac{1}{C} = \\log C$:"
   ]
  },
  {
   "cell_type": "code",
   "execution_count": 25,
   "metadata": {},
   "outputs": [
    {
     "name": "stdout",
     "output_type": "stream",
     "text": [
      "Expected Loss for random predictions: 8.987197\n",
      "Actual loss: 8.987430\n"
     ]
    }
   ],
   "source": [
    "# Limit to 1000 examples to save time\n",
    "print \"Expected Loss for random predictions: %f\" % np.log(vocabulary_size)\n",
    "print \"Actual loss: %f\" % model.calculate_loss(X_train[:1000], y_train[:1000])"
   ]
  },
  {
   "cell_type": "markdown",
   "metadata": {},
   "source": [
    "Pretty close! Keep in mind that evaluating the loss on the full dataset is an expensive operation and can take hours if you have a lot of data!"
   ]
  },
  {
   "cell_type": "markdown",
   "metadata": {},
   "source": [
    "#### Training the RNN with SGD and Backpropagation Through Time (BPTT)\n",
    "\n",
    "Remember that we want to find the parameters $U,V$ and $W$ that minimize the total loss on the training data. The most common way to do this is SGD, Stochastic Gradient Descent. The idea behind SGD is pretty simple. We iterate over all our training examples and during each iteration we nudge the parameters into a direction that reduces the error. These directions are given by the gradients on the loss: $\\frac{\\partial L}{\\partial U}, \\frac{\\partial L}{\\partial V}, \\frac{\\partial L}{\\partial W}$. SGD also needs a *learning rate*, which defines how big of a step we want to make in each iteration. SGD is the most popular optimization method not only for Neural Networks, but also for many other Machine Learning algorithms. As such there has been a lot of research on how to optimize SGD using batching, parallelism and adaptive learning rates. Even though the basic idea is simple, implementing SGD in a really efficient way can become very complex. If you want to learn more about SGD [this](http://cs231n.github.io/optimization-1/) is a good place to start. Due to its popularity there are a wealth of tutorials floating around the web, and I don't want to duplicate them here. I'll implement a simple version of SGD that should be understandable even without a background in optimization.\n",
    "\n",
    "But how do we calculate those gradients we mentioned above? In a [traditional Neural Network](http://www.wildml.com/2015/09/implementing-a-neural-network-from-scratch/) we do this through the backpropagation algorithm. In RNNs we use a slightly modified version of the this algorithm called Backpropagation Through Time (BPTT). Because the parameters are shared by all time steps in the network, the gradient at each output depends not only on the calculations of the current time step, but also the previous time steps. If you know calculus, it really is just applying the chain rule. The next part of the tutorial will be all about BPTT, so I won't go into detailed derivation here. For a general introduction to backpropagation check out [this](http://colah.github.io/posts/2015-08-Backprop/) and this [post](http://cs231n.github.io/optimization-2/). For now you can treat BPTT as a black box. It takes as input a training example $(x,y)$ and returns the gradients $\\frac{\\partial L}{\\partial U}, \\frac{\\partial L}{\\partial V}, \\frac{\\partial L}{\\partial W}$."
   ]
  },
  {
   "cell_type": "code",
   "execution_count": 16,
   "metadata": {},
   "outputs": [],
   "source": [
    "def bptt(self, x, y):\n",
    "    T = len(y)\n",
    "    # Perform forward propagation\n",
    "    o, s = self.forward_propagation(x)\n",
    "    # We accumulate the gradients in these variables\n",
    "    dLdU = np.zeros(self.U.shape)\n",
    "    dLdV = np.zeros(self.V.shape)\n",
    "    dLdW = np.zeros(self.W.shape)\n",
    "    delta_o = o\n",
    "    delta_o[np.arange(len(y)), y] -= 1.\n",
    "    # For each output backwards...\n",
    "    for t in np.arange(T)[::-1]:\n",
    "        dLdV += np.outer(delta_o[t], s[t].T)\n",
    "        # Initial delta calculation\n",
    "        delta_t = self.V.T.dot(delta_o[t]) * (1 - (s[t] ** 2))\n",
    "        # Backpropagation through time (for at most self.bptt_truncate steps)\n",
    "        for bptt_step in np.arange(max(0, t-self.bptt_truncate), t+1)[::-1]:\n",
    "            # print \"Backpropagation step t=%d bptt step=%d \" % (t, bptt_step)\n",
    "            dLdW += np.outer(delta_t, s[bptt_step-1])              \n",
    "            dLdU[:,x[bptt_step]] += delta_t\n",
    "            # Update delta for next step\n",
    "            delta_t = self.W.T.dot(delta_t) * (1 - s[bptt_step-1] ** 2)\n",
    "    return [dLdU, dLdV, dLdW]\n",
    "\n",
    "RNNNumpy.bptt = bptt"
   ]
  },
  {
   "cell_type": "code",
   "execution_count": 17,
   "metadata": {
    "collapsed": true
   },
   "outputs": [],
   "source": [
    "# bptt params: x , y \n",
    "\n",
    "\n"
   ]
  },
  {
   "cell_type": "markdown",
   "metadata": {},
   "source": [
    "#### Gradient Checking\n",
    "\n",
    "Whenever you implement backpropagation it is good idea to also implement *gradient checking*, which is a way of verifying that your implementation is correct. The idea behind gradient checking is that derivative of a parameter is equal to the slope at the point, which we can approximate by slightly changing the parameter and then dividing by the change:\n",
    "\n",
    "$\n",
    "\\begin{aligned}\n",
    "\\frac{\\partial L}{\\partial \\theta} \\approx \\lim_{h \\to 0} \\frac{J(\\theta + h) - J(\\theta -h)}{2h}\n",
    "\\end{aligned}\n",
    "$\n",
    "\n",
    "We then compare the gradient we calculated using backpropagation to the gradient we estimated with the method above. If there's no large difference we are good. The approximation needs to calculate the total loss for *every* parameter, so that gradient checking is very expensive (remember, we had more than a million parameters in the example above). So it's a good idea to perform it on a model with a smaller vocabulary."
   ]
  },
  {
   "cell_type": "code",
   "execution_count": 18,
   "metadata": {},
   "outputs": [
    {
     "name": "stdout",
     "output_type": "stream",
     "text": [
      "Performing gradient check for parameter U with size 1000.\n",
      "Gradient check for parameter U passed.\n",
      "Performing gradient check for parameter V with size 1000.\n",
      "Gradient check for parameter V passed.\n",
      "Performing gradient check for parameter W with size 100.\n",
      "Gradient check for parameter W passed.\n"
     ]
    },
    {
     "name": "stderr",
     "output_type": "stream",
     "text": [
      "/Users/aerin/Desktop/RNN_tutorial/tutorial/lib/python2.7/site-packages/ipykernel/__main__.py:28: RuntimeWarning: invalid value encountered in double_scalars\n"
     ]
    }
   ],
   "source": [
    "def gradient_check(self, x, y, h=0.001, error_threshold=0.01):\n",
    "    # Calculate the gradients using backpropagation. We want to checker if these are correct.\n",
    "    bptt_gradients = model.bptt(x, y)\n",
    "    # List of all parameters we want to check.\n",
    "    model_parameters = ['U', 'V', 'W']\n",
    "    # Gradient check for each parameter\n",
    "    for pidx, pname in enumerate(model_parameters):\n",
    "        # Get the actual parameter value from the mode, e.g. model.W\n",
    "        parameter = operator.attrgetter(pname)(self)\n",
    "        print \"Performing gradient check for parameter %s with size %d.\" % (pname, np.prod(parameter.shape))\n",
    "        # Iterate over each element of the parameter matrix, e.g. (0,0), (0,1), ...\n",
    "        it = np.nditer(parameter, flags=['multi_index'], op_flags=['readwrite'])\n",
    "        while not it.finished:\n",
    "            ix = it.multi_index\n",
    "            # Save the original value so we can reset it later\n",
    "            original_value = parameter[ix]\n",
    "            # Estimate the gradient using (f(x+h) - f(x-h))/(2*h)\n",
    "            parameter[ix] = original_value + h\n",
    "            gradplus = model.calculate_total_loss([x],[y])\n",
    "            parameter[ix] = original_value - h\n",
    "            gradminus = model.calculate_total_loss([x],[y])\n",
    "            estimated_gradient = (gradplus - gradminus)/(2*h)\n",
    "            # Reset parameter to original value\n",
    "            parameter[ix] = original_value\n",
    "            # The gradient for this parameter calculated using backpropagation\n",
    "            backprop_gradient = bptt_gradients[pidx][ix]\n",
    "            # calculate The relative error: (|x - y|/(|x| + |y|))\n",
    "            relative_error = np.abs(backprop_gradient - estimated_gradient)/(np.abs(backprop_gradient) + np.abs(estimated_gradient))\n",
    "            # If the error is to large fail the gradient check\n",
    "            if relative_error > error_threshold:\n",
    "                print \"Gradient Check ERROR: parameter=%s ix=%s\" % (pname, ix)\n",
    "                print \"+h Loss: %f\" % gradplus\n",
    "                print \"-h Loss: %f\" % gradminus\n",
    "                print \"Estimated_gradient: %f\" % estimated_gradient\n",
    "                print \"Backpropagation gradient: %f\" % backprop_gradient\n",
    "                print \"Relative Error: %f\" % relative_error\n",
    "                return \n",
    "            it.iternext()\n",
    "        print \"Gradient check for parameter %s passed.\" % (pname)\n",
    "\n",
    "RNNNumpy.gradient_check = gradient_check\n",
    "\n",
    "# To avoid performing millions of expensive calculations we use a smaller vocabulary size for checking.\n",
    "grad_check_vocab_size = 100\n",
    "np.random.seed(10)\n",
    "model = RNNNumpy(grad_check_vocab_size, 10, bptt_truncate=1000)\n",
    "model.gradient_check([0,1,2,3], [1,2,3,4])"
   ]
  },
  {
   "cell_type": "markdown",
   "metadata": {},
   "source": [
    "#### SGD Implementation\n",
    "\n",
    "Now that we are able to calculate the gradients for our parameters we can implement SGD. I like to do this in two steps: 1. A function `sdg_step` that calculates the gradients and performs the updates for one batch. 2. An outer loop that iterates through the training set and adjusts the learning rate."
   ]
  },
  {
   "cell_type": "code",
   "execution_count": 19,
   "metadata": {
    "collapsed": true
   },
   "outputs": [],
   "source": [
    "# Performs one step of SGD.\n",
    "def numpy_sdg_step(self, x, y, learning_rate):\n",
    "    # Calculate the gradients\n",
    "    dLdU, dLdV, dLdW = self.bptt(x, y)\n",
    "    # Change parameters according to gradients and learning rate\n",
    "    self.U -= learning_rate * dLdU\n",
    "    self.V -= learning_rate * dLdV\n",
    "    self.W -= learning_rate * dLdW\n",
    "\n",
    "RNNNumpy.sgd_step = numpy_sdg_step"
   ]
  },
  {
   "cell_type": "code",
   "execution_count": 20,
   "metadata": {},
   "outputs": [],
   "source": [
    "# Outer SGD Loop\n",
    "# - model: The RNN model instance\n",
    "# - X_train: The training data set\n",
    "# - y_train: The training data labels\n",
    "# - learning_rate: Initial learning rate for SGD\n",
    "# - nepoch: Number of times to iterate through the complete dataset\n",
    "# - evaluate_loss_after: Evaluate the loss after this many epochs\n",
    "def train_with_sgd(model, X_train, y_train, learning_rate=0.005, nepoch=100, evaluate_loss_after=5):\n",
    "    # We keep track of the losses so we can plot them later\n",
    "    losses = []\n",
    "    num_examples_seen = 0\n",
    "    for epoch in range(nepoch):\n",
    "        # Optionally evaluate the loss\n",
    "        if (epoch % evaluate_loss_after == 0):\n",
    "            loss = model.calculate_loss(X_train, y_train)\n",
    "            losses.append((num_examples_seen, loss))\n",
    "            time = datetime.now().strftime('%Y-%m-%d %H:%M:%S')\n",
    "            print \"%s: Loss after num_examples_seen=%d epoch=%d: %f\" % (time, num_examples_seen, epoch, loss)\n",
    "            # Adjust the learning rate if loss increases\n",
    "            if (len(losses) > 1 and losses[-1][1] > losses[-2][1]):\n",
    "                learning_rate = learning_rate * 0.5  \n",
    "                print \"Setting learning rate to %f\" % learning_rate\n",
    "            sys.stdout.flush()\n",
    "        # For each training example...\n",
    "        for i in range(len(y_train)):\n",
    "            # One SGD step\n",
    "            model.sgd_step(X_train[i], y_train[i], learning_rate)\n",
    "            num_examples_seen += 1"
   ]
  },
  {
   "cell_type": "markdown",
   "metadata": {},
   "source": [
    "Done! Let's try to get a sense of how long it would take to train our network:"
   ]
  },
  {
   "cell_type": "code",
   "execution_count": 26,
   "metadata": {},
   "outputs": [
    {
     "name": "stdout",
     "output_type": "stream",
     "text": [
      "1 loops, best of 3: 273 ms per loop\n"
     ]
    }
   ],
   "source": [
    "np.random.seed(10)\n",
    "model = RNNNumpy(vocabulary_size)\n",
    "%timeit model.sgd_step(X_train[10], y_train[10], 0.005)"
   ]
  },
  {
   "cell_type": "markdown",
   "metadata": {},
   "source": [
    "Uh-oh, bad news. One step of SGD takes approximately 350 milliseconds on my laptop. We have about 80,000 examples in our training data, so one epoch (iteration over the whole data set) would take several hours. Multiple epochs would take days, or even weeks! And we're still working with a small dataset compared to what's being used by many of the companies and researchers out there. What now?\n",
    "\n",
    "Fortunately there are many ways to speed up our code. We could stick with the same model and make our code run faster, or we could modify our model to be less computationally expensive, or both. Researchers have identified many ways to make models less computationally expensive, for example by using a hierarchical softmax or adding projection layers to avoid the large matrix multiplications (see also [here](http://arxiv.org/pdf/1301.3781.pdf) or [here](http://www.fit.vutbr.cz/research/groups/speech/publi/2011/mikolov_icassp2011_5528.pdf)). But I want to keep our model simple and go the first route: Make our implementation run faster using a GPU. Before doing that though, let's just try to run SGD with a small dataset and check if the loss actually decreases:"
   ]
  },
  {
   "cell_type": "code",
   "execution_count": 27,
   "metadata": {},
   "outputs": [
    {
     "name": "stdout",
     "output_type": "stream",
     "text": [
      "2017-09-10 22:56:50: Loss after num_examples_seen=0 epoch=0: 8.987425\n",
      "2017-09-10 22:57:04: Loss after num_examples_seen=100 epoch=1: 8.976270\n",
      "2017-09-10 22:57:18: Loss after num_examples_seen=200 epoch=2: 8.960212\n",
      "2017-09-10 22:57:33: Loss after num_examples_seen=300 epoch=3: 8.930430\n",
      "2017-09-10 22:57:47: Loss after num_examples_seen=400 epoch=4: 8.862264\n",
      "2017-09-10 22:58:01: Loss after num_examples_seen=500 epoch=5: 6.913570\n",
      "2017-09-10 22:58:15: Loss after num_examples_seen=600 epoch=6: 6.302493\n",
      "2017-09-10 22:58:30: Loss after num_examples_seen=700 epoch=7: 6.014995\n",
      "2017-09-10 22:58:45: Loss after num_examples_seen=800 epoch=8: 5.833877\n",
      "2017-09-10 22:58:59: Loss after num_examples_seen=900 epoch=9: 5.710718\n"
     ]
    }
   ],
   "source": [
    "np.random.seed(10)\n",
    "# Train on a small subset of the data to see what happens\n",
    "model = RNNNumpy(vocabulary_size)\n",
    "losses = train_with_sgd(model, X_train[:100], y_train[:100], nepoch=10, evaluate_loss_after=1)"
   ]
  },
  {
   "cell_type": "markdown",
   "metadata": {},
   "source": [
    "Good, it seems like our implementation is at least doing something useful and decreasing the loss, just like we wanted."
   ]
  },
  {
   "cell_type": "markdown",
   "metadata": {},
   "source": [
    "### Training our Network with Theano and the GPU\n",
    "\n",
    "I have previously written a [tutorial](http://www.wildml.com/2015/09/speeding-up-your-neural-network-with-theano-and-the-gpu/) on Theano, and since all our logic will stay exactly the same I won't go through optimized code here again. I defined a `RNNTheano` class that replaces the numpy calculations with corresponding calculations in Theano. Just like the rest of this post, [the code is also available Github](https://github.com/dennybritz/rnn-tutorial-rnnlm)."
   ]
  },
  {
   "cell_type": "code",
   "execution_count": null,
   "metadata": {
    "collapsed": true
   },
   "outputs": [],
   "source": [
    "from rnn_theano import RNNTheano, gradient_check_theano"
   ]
  },
  {
   "cell_type": "code",
   "execution_count": null,
   "metadata": {},
   "outputs": [],
   "source": [
    "np.random.seed(10)\n",
    "# To avoid performing millions of expensive calculations we use a smaller vocabulary size for checking.\n",
    "grad_check_vocab_size = 5\n",
    "model = RNNTheano(grad_check_vocab_size, 10)\n",
    "gradient_check_theano(model, [0,1,2,3], [1,2,3,4])"
   ]
  },
  {
   "cell_type": "code",
   "execution_count": 76,
   "metadata": {},
   "outputs": [
    {
     "ename": "NameError",
     "evalue": "name 'RNNTheano' is not defined",
     "output_type": "error",
     "traceback": [
      "\u001b[0;31m---------------------------------------------------------------------------\u001b[0m",
      "\u001b[0;31mNameError\u001b[0m                                 Traceback (most recent call last)",
      "\u001b[0;32m<ipython-input-76-298da5e10ad8>\u001b[0m in \u001b[0;36m<module>\u001b[0;34m()\u001b[0m\n\u001b[1;32m      1\u001b[0m \u001b[0mnp\u001b[0m\u001b[0;34m.\u001b[0m\u001b[0mrandom\u001b[0m\u001b[0;34m.\u001b[0m\u001b[0mseed\u001b[0m\u001b[0;34m(\u001b[0m\u001b[0;36m10\u001b[0m\u001b[0;34m)\u001b[0m\u001b[0;34m\u001b[0m\u001b[0m\n\u001b[0;32m----> 2\u001b[0;31m \u001b[0mmodel\u001b[0m \u001b[0;34m=\u001b[0m \u001b[0mRNNTheano\u001b[0m\u001b[0;34m(\u001b[0m\u001b[0mvocabulary_size\u001b[0m\u001b[0;34m)\u001b[0m\u001b[0;34m\u001b[0m\u001b[0m\n\u001b[0m\u001b[1;32m      3\u001b[0m \u001b[0mget_ipython\u001b[0m\u001b[0;34m(\u001b[0m\u001b[0;34m)\u001b[0m\u001b[0;34m.\u001b[0m\u001b[0mmagic\u001b[0m\u001b[0;34m(\u001b[0m\u001b[0;34mu'timeit model.sgd_step(X_train[10], y_train[10], 0.005)'\u001b[0m\u001b[0;34m)\u001b[0m\u001b[0;34m\u001b[0m\u001b[0m\n",
      "\u001b[0;31mNameError\u001b[0m: name 'RNNTheano' is not defined"
     ]
    }
   ],
   "source": [
    "np.random.seed(10)\n",
    "model = RNNTheano(vocabulary_size)\n",
    "%timeit model.sgd_step(X_train[10], y_train[10], 0.005)"
   ]
  },
  {
   "cell_type": "markdown",
   "metadata": {},
   "source": [
    "This time, one SGD step takes 70ms on my Mac (without GPU) and 23ms on a [g2.2xlarge](https://aws.amazon.com/ec2/instance-types/#g2) Amazon EC2 instance with GPU. That's a 15x improvement over our initial implementation and means we can train our model in hours/days instead of weeks. There are still a vast number of optimizations we could make, but we're good enough for now.\n",
    "\n",
    "To help you avoid spending days training a model I have pre-trained a Theano model with a hidden layer dimensionality of 50 and a vocabulary size of 8000. I trained it for 50 epochs in about 20 hours. The loss was was still decreasing and training longer would probably have resulted in a better model, but I was running out of time and wanted to publish this post. Feel free to try it out yourself and trian for longer. You can find the model parameters in `data/trained-model-theano.npz` in the Github repository and load them using the `load_model_parameters_theano` method:"
   ]
  },
  {
   "cell_type": "code",
   "execution_count": 77,
   "metadata": {},
   "outputs": [
    {
     "ename": "NameError",
     "evalue": "name 'RNNTheano' is not defined",
     "output_type": "error",
     "traceback": [
      "\u001b[0;31m---------------------------------------------------------------------------\u001b[0m",
      "\u001b[0;31mNameError\u001b[0m                                 Traceback (most recent call last)",
      "\u001b[0;32m<ipython-input-77-bdb85ba0ad3f>\u001b[0m in \u001b[0;36m<module>\u001b[0;34m()\u001b[0m\n\u001b[1;32m      1\u001b[0m \u001b[0;32mfrom\u001b[0m \u001b[0mutils\u001b[0m \u001b[0;32mimport\u001b[0m \u001b[0mload_model_parameters_theano\u001b[0m\u001b[0;34m,\u001b[0m \u001b[0msave_model_parameters_theano\u001b[0m\u001b[0;34m\u001b[0m\u001b[0m\n\u001b[1;32m      2\u001b[0m \u001b[0;34m\u001b[0m\u001b[0m\n\u001b[0;32m----> 3\u001b[0;31m \u001b[0mmodel\u001b[0m \u001b[0;34m=\u001b[0m \u001b[0mRNNTheano\u001b[0m\u001b[0;34m(\u001b[0m\u001b[0mvocabulary_size\u001b[0m\u001b[0;34m,\u001b[0m \u001b[0mhidden_dim\u001b[0m\u001b[0;34m=\u001b[0m\u001b[0;36m50\u001b[0m\u001b[0;34m)\u001b[0m\u001b[0;34m\u001b[0m\u001b[0m\n\u001b[0m\u001b[1;32m      4\u001b[0m \u001b[0;31m# losses = train_with_sgd(model, X_train, y_train, nepoch=50)\u001b[0m\u001b[0;34m\u001b[0m\u001b[0;34m\u001b[0m\u001b[0m\n\u001b[1;32m      5\u001b[0m \u001b[0;31m# save_model_parameters_theano('./data/trained-model-theano.npz', model)\u001b[0m\u001b[0;34m\u001b[0m\u001b[0;34m\u001b[0m\u001b[0m\n",
      "\u001b[0;31mNameError\u001b[0m: name 'RNNTheano' is not defined"
     ]
    }
   ],
   "source": [
    "from utils import load_model_parameters_theano, save_model_parameters_theano\n",
    "\n",
    "model = RNNTheano(vocabulary_size, hidden_dim=50)\n",
    "# losses = train_with_sgd(model, X_train, y_train, nepoch=50)\n",
    "# save_model_parameters_theano('./data/trained-model-theano.npz', model)\n",
    "load_model_parameters_theano('./data/trained-model-theano.npz', model)"
   ]
  },
  {
   "cell_type": "markdown",
   "metadata": {
    "collapsed": true
   },
   "source": [
    "### Generating Text\n",
    "\n",
    "Now that we have our model we can ask it to generate new text for us! Let's implement a helper function to generate new sentences:"
   ]
  },
  {
   "cell_type": "code",
   "execution_count": 28,
   "metadata": {},
   "outputs": [
    {
     "name": "stdout",
     "output_type": "stream",
     "text": [
      "[ 0.00013451  0.00118325  0.00132169 ...,  0.00014222  0.00013216\n",
      "  0.00300844]\n",
      "0.99699155512\n",
      "(1, 8000)\n",
      "(2, 100)\n",
      "[[ 1.00013452  1.00118395  1.00132257 ...,  1.00014223  1.00013216\n",
      "   1.00301297]]\n"
     ]
    }
   ],
   "source": [
    "new_sentence = [word_to_index[sentence_start_token]]\n",
    "next_word_probs = model.forward_propagation(new_sentence) # o, s\n",
    "#print next_word_probs\n",
    "#print len(next_word_probs)\n",
    "print next_word_probs[0].flatten()\n",
    "pvals = next_word_probs[0].flatten()\n",
    "print sum(pvals[:-1])\n",
    "print next_word_probs[0].shape\n",
    "print next_word_probs[1].shape\n",
    "print np.exp(next_word_probs[0])"
   ]
  },
  {
   "cell_type": "code",
   "execution_count": 36,
   "metadata": {},
   "outputs": [
    {
     "name": "stdout",
     "output_type": "stream",
     "text": [
      "[u'moderators', u'sober', u'betting', u'dispute', u'**or', u'lego', u'been', u'return', u'structures', u'depressed', u'is', u'each', u't', u'rule', u'ln', u'awesome', u'accurate', u'saved', u'treasure', u'splitting', u'extend', u'cuts', u'drama', u'fires', u'5k', u'lv', u'scale', u'was', u'northern', u'distribution', u'lethal', u'five', u'make', u'brooklyn', u'whitebeard', u'manufacturer', u'eager', u'background', u'opened', u'demands', u'em', u'replacement', u'china', u'identifying', u'aircraft', u'background', u'indeed', u'unaware', u'distance', u'supporting', u'noch', u'2c', u'console', u'das', u'scenes', u'2x', u'cases', u'promoting', u'expense', u'solar', u'industries', u'creation', u'space', u'burger', u'husband', u'typically', u'max', u'basque', u'quad-core', u'sacrifices', u'important', u'basically', u'represents', u'units', u'ein', u'breaches', u'businesses', u'instantly', u'dealers', u'passing', u'cd', u'q', u'2012', u'ft', u'consensual', u'first', u'camp', u'lag', u'exercising', u'irrelevant', u'proof', u'refugees', u'getting', u'italian', u'privacy', u'instead', u'overkill', u'hat', u'buff', u'jacket', u'^^^if', u'social', u'matchups', u'kidding', u'answer', u'plan', u'dozen', u'huh', u'1500', u'books', u'als', u'guardian', u'gdp', u'dat', u'told', u'sarcastic', u'like', u'children', u'remove', u'vulnerable', u'drop', u'signed', u'resulting', u'figure', u'two', u\"n't\", u'fans', u'bad', u'router', u'2007', u'fury', u'complaints', u'player', u'rap', u'top', u'bracket', u'americans', u'shade', u'might', u'significant', u'di', u'assistance', u'surround', u\"''\", u'theoretically', u'pretending', u'setting', u'dope', u'northern', u'to=/r/globaloffensivetrade', u'discounts*', u'harassment', u'sexism', u'industrial', u'one', u'verizon', u'only**', u'honest', u'ranks', u'army', u'lvl', u'horrific', u'statistical', u'likelihood', u'fun', u'url', u'passes', u'semblance', u'rational', u'beaten', u'goalie', u'fist', u'feeding', u'honey', u'*follows*', u'beings', u'usually', u'net', u'render', u'misunderstanding', u'scales', u'like', u'pcpartpicker', u'they', u'stretch', u'able', u'mal', u'stolen', u'known', u'feds', u'loud', u'deciding', u'2014', u'worlds', u'tears']\n",
      "[u'reading', u'neat', u'upon', u'rules', u'tragic', u'playstyle', u'trying', u'labs', u'stocks', u'bomb', u'address', u'/compose/', u'appointment', u'chemistry', u'divorced', u'feminine', u\"'m\", u'club', u'konami', u'secrets', u'strike', u'3.5', u'revenue', u'foot', u'increases', u'gamergate', u'bear', u'i', u'football', u'bare', u'wan', u\"n't\", u'confused', u'august', u'alternate', u'heals', u'armed', u'australia', u'rescue', u'usage', u'destruction', u'assure', u'i', u'2015.', u'measure', u'reasoning', u'fishing', u'vent', u'mining', u'techniques', u'character', u'territory', u'reply', u'submitter', u'cause', u'ready', u'holds', u'dealer', u'deliberately', u'brighton', u'homes', u'.', u'nut', u'leaning', u'i', u'not', u'wants', u'priority', u'galaxy', u'hire', u'looking', u'destroys', u'alarm', u'users', u'behind', u'produce', u'http', u'western', u'expansion', u'plan', u'inte', u'aging', u'suspect', u'deficit', u'remaining', u'wo', u'he/she', u'exploit', u'psychiatrist', u'hardware', u'filling', u'battle', u'ingredients', u'rub', u'statistically', u'roller', u'boy', u'prisoners', u'sugar', u'exposed', u'genius', u'richard', u'posting', u'weird', u')', u'depends', u'cheaper', u'2.0', u'discussing', u'the', u'von', u'competent', u'they', u'amazed', u'cas', u'needed', u'gen', u'amount', u'grain', u'moron', u'meg', u'pocket', u'computer', u'gender', u'here', u'delta', u'har', u'dump', u'the', u'floor', u'similarly', u'pair', u'internet', u'july', u'towns', u'may', u'whatever', u'traps', u'sense', u'opens', u'engine', u'iran', u'cosmetics', u'6', u'lead', u'regulation', u'certainty', u'office', u\"'s\", u'growth', u'snake', u'ui', u'senator', u'theatre', u'seeking', u'essential', u'ignores', u'weaker', u'west', u'contractors', u'excuses', u'dont', u'scripts', u'goals', u'demonstrated', u'tebow', u'major', u'rape', u'tension', u'waited', u'inaccurate', u'imagine', u'mountains', u'each', u'endless', u'collections', u'rock', u'500', u'33', u'record', u'inevitably', u'resort', u'net', u'half', u'they', u'amazed', u'ppl', u'_____', u'beat', u'biggest', u'wake', u'pockets', u'^^^or', u'plates', u'dumb', u'moderate', u'opposing', u'360', u'client', u'fuck', u'lowest', u'resource', u'valley', u'humanity', u'exclusively', u'feminism', u'bikes', u'judges', u'attacked', u'nights', u'empty', u'launch', u'crew', u'tone', u'largest', u'artificial', u'till', u'rep', u'champion', u'famous', u'are', u'can', u'one', u\"'m\", u'millions', u'methods', u'being', u'.', u'desires', u'possible', u'yup', u'installed', u'activity', u'tim', u'exercises', u'thin', u'6', u'knight', u'selected', u'checks', u'terrorist', u'continuing', u'dinner', u'murdering', u'ghost', u'transfer', u'christmas', u'they', u'checks', u'participate', u'wasted', u'waters', u'frozen', u'attitude', u'fry', u'und', u'spray', u'maintenance', u'washington', u'fixed', u'dozens', u'dodging', u'night', u'pushes', u'hi', u'skinny', u'at', u'rabadons', u'proving', u'natural', u'sufficient', u'inte', u'glory', u'chromecast', u'disney', u'SENTENCE_START', u'debt', u'dig', u'wooden', u'maximum', u'prospects', u'protocol', u'makers', u'allergic', u'weak', u'database', u'deposit', u'showcase', u'squad', u'oc', u'estimated', u'xp', u'sidewalk', u'australian', u'pants', u'mean', u'explicit', u'duty', u'messages', u'financial', u'searched', u'mexican', u'skill', u'being', u'file', u'environments', u'bethesda', u'personality', u'letter', u'unfortunate', u'ab', u'alan', u'record', u'educate', u'^^bot', u'5-6', u'hopes', u'bloody', u'mental', u'pushed', u'5-6', u'cardio', u'metal', u'type|item|price', u'creature', u'n', u'broke', u'aunt', u'twin', u'give', u'pursuit', u'battery', u'20thread', u'heat', u'post', u'opened', u'streams', u'reported', u'6th', u'future', u'whichever', u'republic', u'my', u'struck', u'gem', u'his', u'rather', u'principles', u'draw', u'discover', u'send', u'villain', u'adapter', u'stacks', u'melt', u'separated', u'terminal', u'studio', u'recipe', u'it\\u2019s', u'atomic', u'disc', u'patience', u'processing', u'flow', u'that\\u2019s', u'amazing', u'mage', u'crowns', u'glasses', u'legendary', u'here', u'severe', u'install', u'6', u'danger', u'hospitals', u'bizarre', u'scare', u'ruling', u'wage', u'played', u'20http', u'fashion', u'apartment', u'doom', u'develop', u'debating', u'silver', u'assumptions', u'colorado', u'an', u'temp', u'pulls', u'mysterious', u'mentions', u'allowed', u'miller', u'meal', u'represent', u'facts', u'2k', u'alot', u'/r/advice', u'blind', u'monsters', u'early', u'cities', u'join', u'upload', u'losing', u'the', u'waiting', u'wifi', u'county', u'romance', u'crossed', u'green', u'missing', u'underlying', u'them', u'motivation', u'industries', u'rapidly', u'scoring', u'finally', u'servers', u'automatic', u'uni', u'strength', u'coaches', u'tutorial', u'according', u'pin', u'europeans', u'libraries', u'air', u's', u'60', u'activated', u'worthless', u'grabbed', u'studies', u'showing', u'males', u'boot', u'hypocritical', u'helping', u'trucks', u'defensive', u'2014', u'available', u'in', u'intellectually', u'winners', u'hating', u'the', u'lose', u'/r/askscience', u'roast', u'emergency', u'pve', u'5.', u'cheapest', u'linkffn', u'desires', u'hello', u'radio', u'utility', u'regulations', u'dad', u'north', u'largest', u'work', u'ethical', u'prayer', u'embarrassed', u'recall', u\"''\", u'as', u'operating', u'related', u'held', u'phantom', u'region', u'knowledgeable', u'situations', u'=', u'ttk', u'wo', u'link', u'charitable', u'he', u'stood', u'convince', u'privacy', u'rifle', u'check', u'doors', u'fight', u'served', u'significantly', u'taxes', u'failure', u'tourists', u'&', u'go', u'lesson', u'chemicals', u'wash', u'helps', u'disease', u'wrist', u'stay', u'indie', u'mix', u'offer', u'locked', u'decisions', u'folk', u'!', u'batch', u'offer', u'bird', u'//github.com/buttscicles/tweetposter/issues', u'0aplease', u'cats', u'od', u'somewhat', u'credits', u'tpp', u'signed', u'tiers', u'experiment', u'a.', u'hoping', u'harass', u'fair', u'practically', u'solar', u'here', u'korean', u'semblance', u'individually', u'requires', u'whining', u'get', u'20s', u'circlejerk', u'notion', u'drinks', u'restricted', u'protocol', u'monthly', u'on', u'teenager', u'athlete', u'bassnectar-', u'powers', u'i', u'on', u'recreational', u'consumption', u'gear', u'more', u'item', u'couples', u'consistency', u'personalities', u'struggle', u'om', u'ears', u'exhaust', u'mainstream', u'arguing', u'is', u'stepped', u'threats', u'hold', u'cruel', u'opposite', u'circuit', u'help', u'blue', u'precisely', u'acceptable', u'in', u'therapist', u'homeless', u'manager', u'poll', u'offering', u'*prices', u'murderers', u'profit', u'arguments', u\"'d\", u'success', u'supports', u'shelter', u'suits', u'less', u'input', u'dare', u'mark', u'shorts', u'forum', u'directing', u'accomplished', u'consistent', u'como', u'that', u'of', u\"n't\", u'hospital', u'unfortunately', u'nuts', u'existence', u'wow', u'music', u'wish', u'll', u'miami', u'ought', u'spoilers', u'failure', u'throwing', u'def', u'les', u'attribute', u'contract', u'session', u'missions', u'worse', u'enforcement', u'mb', u'craigslist', u'landing', u'viewed', u'//www.reddit.com/r/askreddit/wiki/index', u'citizens', u'pray', u'activity', u'^^^=', u'200', u'adult', u'thorough', u'bra', u'alongside', u'captains', u'pressing', u'stereotypical', u'loaded', u\"'d\", u'afternoon', u'brave', u'noise', u'oblivious', u'story', u'crushed', u'quantity', u'gtx', u'guess', u'no', u'stronger', u'clue', u'would', u'seagate', u'rogue', u'description', u'criteria', u'speeds', u'bernie', u'giveaway', u'roasted', u'frame', u'if', u'arguments', u'ah', u'went', u'eve', u'drive', u'information', u'however', u'consumption', u'revolution', u'site-wide', u'urge', u'robots', u'ifs', u'growing', u'7200rpm', u'intellectual', u'net', u'lawyer', u'both', u'7', u'goals', u'feat', u'presented', u'raised', u'master', u'bastard', u'cardname', u'clothes', u'bars', u'that', u'grain', u'fellow', u'pax', u'defender', u'fingers', u'feel', u'eligible', u'punish', u'edits', u'for', u'clicks', u'hitting', u'thursday', u'what', u'ep', u'slowly', u'subtle', u'able', u'discover', u'christianity', u'switched', u'easier', u'libido', u'26', u'had', u'club', u'brought', u'sacred', u'tackle', u'edge', u'lmao', u'burden', u'jungle', u'dodging', u'combo', u'break', u'garden', u'em', u'motivation', u'defense', u'i', u'meg', u'adjust', u'walgreens', u'amazed', u'700', u'f1', u'removed**', u'subject=feedback', u'likes', u'ignore', u'bin', u'16gb', u'wherever', u'penance', u'promoting', u'crisis', u'flavor', u'influenced', u'ranges', u'ps4', u'families', u'60', u'playing', u'vanessa', u'sucked', u'construction', u'changes', u'optimal', u'kelly', u'dc', u'tools', u'birds', u'roaming', u'ppr', u'thickness', u'think', u'skinny', u\"'s\", u'disappointed', u'whatever', u'keep', u'eu', u'makes', u'grocery', u'california', u'all', u'such', u'mounts', u'tune', u'graph', u'0aremindme', u'treat', u'chelsea', u'shits', u'sidewalk', u'effect', u'entity', u'progress', u'premise', u'defenders', u'scoring', u'1.', u'crime', u'overlooked', u'intentionally', u'exclusives', u'20a', u'died', u'liability', u'ep', u'pansy', u'belongs', u'shooter', u'knight', u'miners', u'cost', u'jack', u'compelling', u'downvote', u'shadows', u'reports', u'ability', u'pr', u'endless', u'*will*', u'fell', u'.', u'rank', u'explore', u'gift', u'shelter', u'mom', u'necessary', u'boy', u'places', u'interest', u\"n't\", u'used', u'voted', u'virginia', u'keeper', u'msi', u'collective', u'irc', u'like', u'ranks', u'1200', u'square', u'noticed', u'panel', u'container', u'no', u'depression', u'except', u'accordingly', u'scene', u'continuously', u'npc', u'yet', u'memory', u'name', u'sights', u'punish', u'soundtrack', u'non-contributory', u'gates', u'ncix', u'allowing', u'partners', u',', u'nursing', u'survived', u'ruled', u'hosted', u'answered', u'hosts', u'assume', u'coin', u'cave', u\"'d\", u'ended', u'youtube', u'protection', u'umbrella', u'moments', u'cents', u'floors', u'star', u'shake', u'&', u'exclusively', u\"'s\", u'to=tweetposter', u'amounts', u'caused', u'catholics', u'temp', u'warranty', u'moon', u'off-topic', u'the', u'understandable', u'legion', u'topic', u'substantial', u'playable', u'great', u'movements', u'limit', u'queue', u'ps', u'upon', u'bland', u'initiation', u'image', u'storyline', u'engaging', u'lifestyle', u'kia', u'paul', u'growing', u'one', u'often', u'bigger', u'atm', u'rope', u'through', u'absolutely', u'enforced', u'french', u'a', u'van', u'liking', u'decisions', u'btw', u'account', u'upside', u'never', u'var', u'opened', u'aesthetic', u'joking', u'endurance', u'vaping', u'till', u\"n't\", u'wire', u'grew', u\"'ve\", u'grows', u'spotify', u'elite', u'perhaps', u'cpa', u'overweight', u'senate', u'answering', u'troubles', u'brave', u'form', u'hmm', u'am', u'multiplayer', u'challenged', u'problem', u'assembly', u'tl', u'versions', u'races', u'divorced', u'linear', u'defender', u'tastes', u'q=', u'horrified', u'009', u'run', u'gt', u'ice', u'destroy', u'foundations', u'alcohol', u'module', u'r', u'county', u'no', u'compared', u'involve', u'buffing', u'lamb', u'arduino', u'hello', u'i', u'ham', u'i', u'ds1', u'criminal', u'indicator', u'em', u'shirt', u'today', u'green', u'\\u2014', u'before', u'socialist', u'te', u'but', u'med', u'abusing', u'for', u'is', u'even', u'include', u'backed', u'plural', u\"'s\", u'or', u'auch', u'hospitals', u'policy', u'confusing', u'mirrors', u'tool', u'conscious', u'idea', u'resubmit', u'difficult', u'lobby', u'hillary', u'4.', u'stored', u'mistake', u'perspectives', u'zombie', u'delayed', u'snapped', u'poster', u'shotgun', u'was', u'appropriate', u'technical', u'form', u'weigh', u'players', u'responsibility', u'pic', u'ahead', u'self-promotion', u'navy', u'overweight', u'winter', u'engaged', u'seemed', u'pc', u'drug', u'1500', u'people', u'hat', u'bones', u'priority', u'heroes', u'resource', u'co-workers', u'standard', u'concert', u'top-level', u'buddies', u'persons', u'affirmative', u'**total**', u'tall', u'diving', u'greedy', u'linux', u'?', u'broadcast', u'grenade', u'shirt', u'targets', u'getting', u'classes', u'jesus', u'stuff', u'learned', u'strike', u'aim', u'waste', u'seriousness', u'boston', u'references', u'paying', u'candy', u'trigger', u'supreme', u'struggles', u'pushes', u'final', u'subscribers', u'aiming', u'yes', u'mechanics', u'clone', u'already', u'richard', u'owners', u'admins', u'clue', u'suitable', u'grenades', u'von', u'null', u'networks', u'immigrant', u'opponents', u'me', u'pick', u'continuity', u'lore', u'church', u'entertainment', u'steel', u'fetish', u'jedi', u'committed', u'chart', u'physics', u'maximum', u'someone', u'positive', u'weird', u'20', u'module', u'suitable', u'voting', u'morality', u'giveaway', u'parenthood', u'night', u'likewise', u'asleep', u'owner', u'fully', u'supply', u'stating', u'pack', u'transfer', u'oranges', u'exception', u'christian', u'getting', u'so', u'appointment', u'promoting', u'pp', u'program', u'type', u'spare', u'reason', u'scenes', u'disclaimer', u'cc', u'grain', u'chief', u'pc', u'will', u'handguns', u'consistency', u'unrelated', u'platforms', u'wright', u'singer', u'although', u'back', u'mal', u'mess', u'location', u'holes', u'feeding', u'mad', u'intro', u'expectation', u'ne', u'900', u'digging', u'legendary', u'periods', u'fucks', u'give', u'legends', u'saga', u'near', u'genetic', u'search', u'primarily', u'ob', u'wiring', u'10k', u'sees', u'follow', u'veggies', u'sf', u'quitting', u'speaking', u'immediate', u'bitch', u'sound', u'mgs', u'quote', u'exp', u'expired', u'weekend', u\"'re\", u'person', u'goodness', u'excuses', u'spotify', u'together', u'versions', u'on', u'irrational', u\"n't\", u'mint', u'more', u'father', u'briefly', u'ult', u'850', u'measurements', u'fold', u'sorted', u'seen', u'feels', u'wife', u'lean', u'services', u'tons', u'/r/videos', u'installing', u'breathe', u']', u'looked', u'into', u'operating', u'affairs', u'responding', u'savage', u'balanced', u'extent', u'freshman', u'natural', u'glance', u'nra', u'squeeze', u'surround', u'iron', u'and', u'flair', u'wards', u'^^^am', u'assault', u'finishing', u'accepting', u'senate', u'term', u'swing', u'today', u'afford', u'treasure', u'ii', u'ops', u'conscious', u'rings', u'doctor', u'rely', u'ability', u'16gb', u'raw', u'recording', u'field', u'there', u'trigger', u'stories', u'moderator', u'out', u'tour', u'xb1', u'players', u'stressful', u'nielsen', u'catching', u'sequel', u'ancient', u'all', u'der', u'movement', u'on', u'2011', u'slipping', u'describe', u'v', u'improve', u'defining', u'divorced', u'mid', u'seller', u'22', u'autism', u'4.', u'detailed', u'drums', u'revolution', u'off', u'objects', u'supporting', u'returns', u'evidence', u'constitution', u'fed', u'of', u'camp', u'biology', u'cpu', u'helmet', u'maximum', u'grave', u'dodge', u'rocks', u'painting', u'^^\\\\', u'rub', u'register', u'figure', u'components', u'it\\xb4s', u'ditch', u'acid', u'stairs', u'ask', u'name', u'shove', u'constant', u'disrespectful', u'harmful', u'hosts', u'fill', u'refugee', u'consciousness', u'overall', u'engage', u'3.5', u'arrived', u'procedures', u'older', u'motion', u'dutch', u'terribly', u\"''\", u'leadership', u'continuous', u'ok', u'whip', u'healthcare', u'and', u'hearing', u'supports', u'typing', u'^created', u'command', u'ryan', u'finally', u'bear', u'cake', u'methodology', u'b', u'improvements', u'anything', u'mute', u'occurred', u'educate', u'another', u'increasingly', u'borderlands', u'responsibility', u'percy', u'liquid', u'par', u'cis', u'skins', u'hill', u'trusted', u'giving', u'ice', u'mayor', u'tradition', u'closest', u'.', u'separately', u'intake', u'&', u'petty', u'into', u'calorie', u'sexism', u'*^', u'is', u'understood', u'default', u'increase', u'lord', u'som', u'criticisms', u'qb', u'kit', u'interesting', u'calm', u'working', u'cooper', u'categories', u'picked', u'live', u'expired', u'tried', u'bomb', u'bright', u'friday', u'national', u'defender', u'resulted', u'segment', u'anyway', u'silver', u'lube', u'motion', u'stay', u'3-5', u'+', u'catch', u'mere', u'your', u'reign', u'intellectually', u'confident', u'``', u'jobs', u'grant', u'vastly', u'jury', u'^^please', u'hated', u'station', u'relationship', u'equally', u'runes', u'980', u'scrutiny', u'ele', u'sight', u'exploration', u'lines', u'remove', u'chickens', u'word', u'info', u'consoles', u'from', u'predictable', u'row', u'20thread', u'temp', u'addressing', u'in', u'gut', u'wake', u'300', u'noting', u'*you*', u'cast', u'recommendations', u'mile', u'layer', u'physical', u'comply', u'alan', u'constructive', u'**cpu**', u'wont', u'4k', u'thank', u'bundle', u'involves', u'salt', u'wikipedia', u'6th', u'include', u'possibility', u'expectations', u'itunes', u\"'m\", u'stick', u'scientist', u'other', u'commenter', u'deeply', u'third', u'recommendation', u'infinitely', u'sexual', u'7th', u'that', u'tez', u'repeated', u'username', u'gas', u'limit', u'thousands', u'refers', u'screws', u'colour', u'yeah', u'weights', u'|average|', u'used', u'gank', u'ties', u'declined', u'gifs', u'bit', u'bakers', u'mod', u'already', u'les', u'traps', u'bots', u'*language*', u'/r/mylittlepony/comments/1lwzub/deviantart_imgur_mirror_bot_nightmirrormoon/', u'accomplish', u'rocky', u'someday', u'stolen', u'tokens', u'confirm', u'statement', u'republicans', u'record', u'genetic', u'like', u'node', u'literally', u'hyper', u'completed', u'laying', u'figuring', u'husband', u'anti-gun', u'3s', u'paving', u'between', u'advance', u'ein', u'athletic', u'cultures', u'trades', u'openly', u'moments', u'honey', u'sights', u'feel', u'popcorn', u'layer', u'column', u'pen', u'tribe', u'gg', u'miami', u'kinda', u'pace', u'lives', u'existed', u'house', u'tokens', u'demonstrate', u'ludens', u'heroic', u'instant', u'var', u'her', u'torrent', u'cats', u'dropping', u'discussion', u'$', u'to=/r/askreddit', u'amount', u'ignore', u'lay', u'necessarily', u'ruled', u'expression', u'trauma', u'come', u'from', u'trait', u'advocating', u'team', u'down', u'assumes', u'evidence', u'professor', u';', u'perfectly', u'adapt', u'disappear', u'blood', u'immensely', u'sending', u'afford', u'chickens', u'race', u'readers', u'by', u'privilege', u'poorly', u'admit', u'flare', u'between', u'were', u'**or', u'does', u'stable', u'creep', u'zones', u'ethnicity', u'earn', u'other', u'speaker', u'planned', u'1.5', u'interest', u'cheaper', u'look', u'plates', u'mechanism', u'relate', u\"''\", u'accomplished', u'replies', u'trucks', u'handguns', u'^^^fetchable**', u'him', u'new', u'migrants', u'lan', u'handles', u'soccer', u'temple', u'mandatory', u'stepping', u'edges', u'farther', u'accordingly', u'famous', u'btc', u'drastically', u'only', u'latter', u'techniques', u'impact', u'mage', u'lazy', u'firearm', u'easier', u'cease', u'5000', u'identified', u'appearing', u'writers', u'peel', u'contribute', u'supports', u'ggez', u'refuse', u'attempts', u'told', u'gotten', u'consoles', u'sucks', u'pronouns', u'compared', u'company', u'loaded', u'dumbass', u'uber', u'closet', u'disney', u'make', u'civilian', u'sexually', u'dozen', u'bones', u'delayed', u'cheapest', u'sessions', u'purple', u'rows', u'scare', u'skin', u'replies', u'devices', u'mins', u'agree', u'libido', u'scum', u'detail', u'albums', u'young', u'es', u'brand', u'seemingly', u'humor', u'felon', u'minimal', u'drink', u'credible', u'heavily', u'variety', u'development', u'stack', u'type|item|price', u'feminism', u'sky', u'heh', u'guude', u'throne', u'objectives', u'smartphone', u'responsibility', u'whitebeard', u'inch', u'crucial', u'chicken', u'efforts', u'gather', u'convenient', u'pretend', u'you', u'dutch', u'uh', u'rent', u'prompt', u'confident', u'disappeared', u'instead', u'be', u'i', u'stubborn', u'moderation', u'stage', u'actions', u'disappointing', u'obvious', u'mandatory', u'generation', u'*^', u'hills', u'timing', u'melt', u'had', u'branch', u'nervous', u'operates', u'trapped', u'calm', u'subreddits', u'news', u'lose', u'10,000', u'codes', u'r-r', u'couch', u'used', u'or', u'thin', u'washington', u'silly', u'magnetic', u'appreciate', u'festival', u'raw', u'excluded', u'expressing', u'subjective', u'driver', u'specialist', u'sustain', u'texas', u'impressive', u'accomplish', u'baked', u'redemption', u'*site*', u'scare', u'minority', u'rooms', u'behaviour', u'efficiently', u'sized', u'west', u'confederate', u'masters', u'wrist', u'products', u'boost', u'decision', u'30', u'spell', u'wb', u'.jpg', u'qualify', u'grabbed', u'pity', u'my', u'bind', u'mock', u'do', u'weather', u'borderlands', u'challenged', u'lungs', u'cancel', u'availability', u'presence', u'attached', u'influence', u'neck', u'quo', u'regulated', u'arent', u'panic', u'weekends', u'i', u'compromise', u'can', u'lag', u'master', u'building', u'sick', u'no', u'idea', u'can\\u2019t', u'awesome', u'003f', u'bbq', u'select', u'see', u'sizes', u'meetings', u'12', u'plant', u'inevitably', u\"'re\", u'pills', u'it', u\"y'all\", u'introduce', u'*do', u'ive', u'carriers', u'seed', u'basics', u'matches', u'immature', u'feel', u'wheel', u'child', u'punk', u'pleasing', u'stability', u'pickup', u'spammers', u'20of', u'cry', u'converting', u'elementary', u'guaranteed', u'bodies', u'taxi', u'paragraph', u'logic', u'vaping', u'lt', u'20my', u'letters', u'blade', u'woods', u'placement', u'culture', u'sudden', u'programming', u'accomplished', u'so', u'burn', u'cancel', u'van', u'expertise', u'wonderful', u'regularly', u'/r/advice', u'females', u'norway', u'personally', u'creek', u'recording', u'her', u'npc', u'charging', u'boston', u'base', u'paying', u'fishing', u'be', u'arsenal', u'exclusive', u'buttons', u'assistance', u'coming', u'p.s', u'reactions', u'millions', u'marshall', u'mandatory', u'requested', u'negative', u'lethal', u'weather', u'cans', u'niche', u'blue', u'decades', u'useful', u'states', u'^^^you', u'*bloop*', u'working', u'ttk', u'streaming', u'temp', u'saw', u'this', u'to', u'utility', u'criteria', u'to', u'processors', u'simply', u'running', u'background', u'faction', u'lately', u'polite', u'shifts', u'loading', u'what', u'clopidogrel', u'monitor', u'terms', u'exercise', u'impressed', u'pirate', u'favor', u'ya', u'debt', u'very', u'fucks', u'four', u'ein', u'constraint', u'everytime', u'staring', u'theres', u'growth', u'experiences', u'has', u'slap', u'shopping', u'fails', u'german', u'edge', u'control', u'perfectly', u'aggressive', u'moment', u'import', u\"y'all\", u'bunch', u'primarily', u'testing', u'her', u'aware', u'maintaining', u'just', u'happen', u'duck', u'hearts', u'adc', u'compete', u'mecha', u'substance', u'grateful', u'psa', u'stock', u'bkb', u'utterly', u'//pcpartpicker.com', u'polish', u'believes', u'lame', u'shift', u'irc', u'hole', u'enforced', u'games', u'blade', u'signal', u'kitchen', u'rate', u'bible', u'alien', u'sim', u'hitler', u'expired', u'valley', u'exists', u'butthurt', u'tongue', u'porn', u'majority', u'si', u'ps', u'26', u'showcase', u'bible', u'chemicals', u'yorick', u'tire', u'electrical', u'buff', u'dat', u'weaker', u'letters', u'tried', u'surrounding', u'young', u'thank', u'75', u'fit', u'female', u'formula', u'strange', u'right', u'velocity', u'controller', u'we', u'(', u'confirmed', u'offline', u'allows', u'buy', u'films', u'focus', u'he', u'animal', u'ace', u'if', u'potentially', u'fellow', u'plague', u'later', u'wie', u'ok.', u'immature', u'times', u'rural', u'remain', u'then', u'faq', u'affirmative', u'forward', u'op', u'darkness', u'dealt', u'dismiss', u'blew', u\"'m\", u'tire', u'scam', u'spectrum', u'intellectually', u'resort', u'individuals', u'create', u'tradition', u'yep', u'summons', u'made', u'familiar', u'month', u'closet', u'without', u'organized', u'yet', u'has', u'humans', u'speakers', u'contact', u'son', u'intentions', u'site=search', u'ranger', u'lv', u'pace', u'knowledgeable', u'done', u'es', u'listentothis', u'posting', u'stopping', u'insecurity', u'dot', u'whatnot', u'denying', u'wont', u'2013', u'variation', u'120', u'nra', u\"'s\", u'dish', u'electric', u'societal', u'vehicle', u'face', u'lesson', u'patients', u'gen', u'cannabis', u'bounds', u'3ds', u'isaac', u'recreational', u'purchase', u'discussions', u'sucking', u'seeds', u'empty', u'bill', u'gather', u'been', u'single', u'lower', u'fear', u'difficulty', u'tobacco', u'irrelevant', u'committed', u'relevant', u'them', u'&', u'wrong', u'cores', u\"'s\", u'june', u'nicer', u'ally', u'conclusion', u'deadly', u'we', u'are', u'stark', u'20of', u'replaced', u'childish', u'pink', u'shooting', u'pansy', u'details', u'max', u'swift', u'advice', u'fate', u'resolved', u'premier', u'a', u'put', u'rely', u'x', u'referenced', u'gave', u'sub', u'guardian', u'1.5', u'permission', u'pools', u'targets', u'overall', u'summoned', u'a.', u'won', u'rail', u'ripped', u'[', u'techniques', u'living', u'roots', u'invest', u'2014', u'fewer', u'organizations', u'controversy', u'vent', u'bigger', u'baked', u'fleshed', u'pg', u'writer', u'museum', u'riders', u'bb', u'tape', u'bugs', u'api', u'for', u'wearing', u'e3', u'houston', u'followed', u'**31**', u'stance', u'degrees', u'counseling', u'needed', u'was', u'felon', u'son', u'shotgun', u'northern', u'doctors', u'four', u'satan', u'comes', u'doors', u'defending', u'national', u'interested', u'listened', u'fatigue', u'subjects', u'third', u'inch', u'celebrate', u'observed', u'impossible', u'activities', u'cash', u'tbh', u'passes', u'evaluation', u'population', u'conscious', u'vain', u'basis', u'punish', u'bell', u'proper', u'till', u'drivers', u'wwii', u'means', u'populations', u'arsenal', u'covering', u'trick', u'championship', u'linked', u'films', u'opposing', u'quiet', u'round', u'official', u'upon', u'painted', u'recommend', u'hunters', u'mobility', u'shows', u'disagreeing', u'ggez', u'in', u'would', u'mechanical', u'typically', u'reduce', u'to=remindmebot', u'450', u'problematic', u'require', u'schedule', u'definition', u'fly', u'based', u'plague', u'delta', u'safe', u'/r/tipofmytongue', u'//www.google.com/search', u'exposed', u'arrive', u'song', u'likes', u'adoption', u'run', u'surgery', u'becomes', u'doable', u\"'d\", u'nas', u'cell', u'continuing', u'carrying', u'^^^/u/fursec', u'press', u'needing', u'beaten', u'bloodborne', u'offense', u'fi', u'waiting', u'stats', u'fire', u'jordan', u'criminals', u'as', u'elves', u'democratic', u'domestic', u'loud', u'ikke', u'investigation', u'records', u'travel', u'scientific', u'browsing', u'domain', u'shifting', u'umbrella', u'paying', u'.', u'hateful', u'stole', u'favour', u'banks', u'isnt', u'some', u'current|', u'check', u'conflict', u'performing', u'surround', u'c3', u'stressful', u'the', u'moderation', u'pregnant', u'purchases', u'alert', u'prices', u'trolls', u'midrange', u'likely', u'esl', u'goals', u'quantity', u'classical', u'sheet', u'building', u'expert', u'that', u'preferably', u'as', u'are', u'tweaks', u'scared', u'prison', u'*reviews*', u'center', u'adapt', u'trudeau', u'there', u'weed', u'issue', u'dear', u'flamed', u'stafford', u'^^^feedback', u'possibly', u'candy', u'angle', u'dave', u'initiate', u'think', u'carrier', u'est', u'haircut', u'economy', u'me', u'extent', u'request', u'violent', u'2f', u'psych', u'is', u'auf', u'url', u'real', u'shade', u'``', u'immediate', u'+2', u'beforehand', u'granted', u'draws', u'dozen', u'shovel', u'[', u'people', u'hp', u'religions', u'0015', u'islamic', u'companion', u'plans', u'paul', u'6', u'into', u'young', u'rig', u'lowest', u'run', u'causing', u'cause', u'highlight', u'hero', u'recipe', u'throughout', u'improvement', u'released', u'complexity', u'think', u'followers', u'edg', u'fault', u'waves', u'faction', u'photos', u'greatly', u'nicotine', u'plat', u'tongue', u'trek', u'see', u'caused', u'scientists', u'jury', u'*bloop*', u'to=/r/globaloffensivetrade', u'horror', u'emotionally', u'madden', u'describes', u'(', u'workout', u'resubmit', u'wiring', u'pleasing', u'continuity', u'fills', u'determine', u'constructive', u'more', u'eternal', u'likes', u'+10', u'able', u'genuinely', u'^^a', u'gifs', u'comfort', u'&', u'past', u'democratic', u'eating', u'graduated', u'ham', u'favourite', u'adventure', u'locking', u'still', u'behave', u'bush', u'morning', u'directly', u'por', u'tempo', u'no', u'uniform', u'glass', u'incapable', u'lee', u'place', u'greg', u'character', u'shops', u'concerned', u'tortured', u'ideology', u'females', u'my', u'rights', u'lower', u'indicating', u'generation', u'teleport', u'sunk', u'receiving', u'recording', u'dear', u'water', u'terribly', u'nyc', u'stay', u\"n't\", u'story', u'prevented', u'case', u'^^bot', u'yelled', u'child', u'home', u'per', u'yadda', u'tourists', u'di', u'spoiler', u'musician', u'trilogy', u'launch', u'6.', u'parts', u'requirements', u'roughly', u'severe', u'rolls', u'margin', u'france', u'loose', u'enormous', u'just', u'shadowbanned', u'replying', u'logic', u'sea', u'mental', u'cosmetics', u'mas', u'favour', u'whatsoever', u'targeted', u'egg', u'faq', u'skills', u'price', u'origins', u'more', u'random', u'theories', u'dogs', u'pump', u'penance', u'team', u'smash', u'told', u'joint', u'ashamed', u'his', u'**total**', u'explained', u'intellectually', u'tree', u'trolls', u'agrees', u'edition', u'sacred', u'nurse', u'eventually', u'teammates', u'boundaries', u'lacks', u'anymore', u'sim', u'scrutiny', u'scenario', u'juggernaut', u'thousands', u'co-workers', u'athletes', u'yea', u'bow', u'pound', u'adults', u'shooters', u'him', u'teenager', u'_count', u'believes', u'minimal', u'ultra', u'pearl', u'trump', u'ludens', u'christmas', u'won', u'primary', u'hair', u'boston', u'or', u'stupidly', u'gm', u'woman', u'empathy', u'reasonably', u'mail', u'dropped', u'owned', u'jackson', u':', u'alternatives', u'handles', u'conversation', u'invented', u'investigation', u'return', u'upon', u'condoms', u'weird', u'flow', u'busy', u'fantastic', u'senior', u'unique', u'applicable', u'devoted', u'could', u'principle', u'aswell', u'ping', u'hiring', u'filed', u'mind', u'aspect', u'sky', u'contacting', u'pointed', u'``', u'defensive', u'frequent', u'crap', u'dave', u'do', u'much', u'copy', u'tier', u'bkb', u'soda', u'formatting', u'enjoyable', u'hit']\n",
      "[u'grave', u'choosing', u'piece', u'murders', u\"'m\", u'expertise', u'^^^message', u'theoretically', u'had', u'schedule', u'updating', u'variation', u'utter', u'slavery', u'prepared', u'willingness', u'wisdom', u'hood', u'generate', u'\\\\n', u'provider', u'unique', u\"'m\", u'ensure', u'solid', u'disparity', u'like', u'the', u'floor', u'bright', u'offenses', u'w/', u'arena', u'wanted', u'exciting', u'ive', u'pushed', u'*bloop*', u'becoming', u'sun', u'and/or', u'nuts', u'estate', u'patch', u'other', u'sunday', u'trial', u'standing', u'reminds', u'tires', u'few', u'unaware', u'blown', u'remove', u'couples', u'measurements', u'nations', u'scrolls', u'pursuit', u'tokens', u'historical', u'helpful', u'knives', u'outright', u'fry', u'beings', u'setup', u'rare', u'upvotes', u'nonetheless', u'gaining', u'restaurants', u'hunters', u'tesla', u'hah', u'sit', u'duration', u'charts', u'miles', u'estimated', u'documentary', u'election', u'switching', u'6.', u'processed', u'motherfucker', u'starting', u'counter', u'estimate', u'nutrition', u'engineering', u'wildly', u'_', u'autism', u'beauty', u'session', u'beat', u'horrendous', u'wiring', u'anyone', u'walker', u'blog', u'god', u'repo', u'stun', u'joining', u'poster', u'parts', u'protein', u'solve', u'27s', u'cans', u'theme', u'wd', u'hash', u'secret', u'in', u'other', u'vegetables', u'output', u\"n't\", u'implies', u'contrary', u'entity', u'miami', u'^this', u'building', u'robot', u'episodes', u'depends', u'weigh', u'elderly', u'majority', u'before', u'confidence', u'triggers', u'having', u'tens', u'british', u'visually', u'tom', u'baseball', u'terribly', u'specified', u'waters', u'rule', u'vacation', u'routine', u'ashley', u'we', u'pok\\xe9mon', u'basically', u'thread', u'it\\xb4s', u'journal', u'comes', u'for', u'raid']\n",
      "[u'aug', u'casters', u'programs', u'apple', u'tomorrow', u'gain', u'roasted', u'total', u'runes', u'relationship', u'logic', u'meetings', u'mentioned', u'hadde', u'haha', u'exclusively', u'weekend', u'lens', u'foot', u'elementary', u'wearing', u'muscle', u'doubles', u'organizations', u'strings', u'it\\u2019s', u'ignorant', u'crashes', u'cake', u'harmless', u'10-15', u'lb', u'would', u'clicks', u'tu', u'throw', u'section', u'departments', u'extension', u'via', u'injuries', u'logistics', u'share', u'our', u'embarrassed', u'endurance', u'minister', u'breaks', u'influence', u'lab', u'scrub', u'unfamiliar', u'bay', u'walgreens', u'chickens', u'yield', u'marketing', u'abortion', u'leveling', u'goes', u'bell', u'republican', u'heading', u'match', u'drugs', u'disaster', u'climbing', u'pulse', u'swear', u'empire', u'drives', u'to', u'hadith', u'clients', u'source', u'(', u'faker', u'if', u'regards', u'reminders', u'foil', u'pair', u'intelligent', u'britain', u'noun', u'asus', u'micro', u'film', u'_____', u'treat', u'prize', u'steal', u\"n't\", u'guess', u'give', u'whine', u'**your', u'+2', u'the', u'claim', u'lost', u'produce', u'babies', u'wore', u'adventure', u'was', u'nyc', u'your', u'toggle', u'blend', u'athletes', u'besides', u'needing', u'damaging', u'artist', u'enter', u'faith', u'cute', u'are', u'thinking', u'trolls', u'site-wide', u'formula', u'june', u'souls', u'kicked', u'wear', u'placing', u'heck', u'us', u'welfare', u'crime', u'6', u'questioning', u'iphone', u'speaker', u'skill', u'settled', u'the', u'i', u'and', u'google', u'favorite', u'minority', u'yea', u'enjoyment', u'seriousness', u'rounds', u'evaluation', u'instead', u'warden', u'young', u'duration', u'user', u'elder', u'graphics', u'couples', u'una', u'trend', u'limiting', u'3', u'^^^fetchable**', u'rely', u'truck', u'det', u'rendered', u'highly', u'noticed', u'victims', u'suggested', u'satisfied', u'relaxing', u'clarity', u'pushes', u'crowd', u'observe', u'there', u'wider', u'sample', u'done', u'moderate', u'regen', u'jeg', u'haha', u'proven', u'lighter', u'in', u'notorious', u'hiring', u'darkness', u'sheet', u'overcome', u'weekly', u'crossed', u'difficulty', u'notes', u'poke', u't=all', u'bath', u'wired', u'damn', u'busy', u'adult', u'first', u'dumb', u'shotguns', u'sticking', u'charged', u'fund', u'basically', u'--', u'ops', u'imho', u'universe', u'sion', u'strange', u'unsure', u'fascist', u'established', u'allow', u'claiming', u'for', u'high|', u'stood', u'gently', u'myself', u'crime', u'pa', u'digital', u's4', u'source', u'dumb', u'oppressed', u'boston', u'director', u'team', u'himself', u'fighting', u'upcoming', u'made', u'align', u'manipulated', u'welfare', u'towards', u'addicted', u'\\xe0', u'courses', u'amusing', u'summoned', u'//m.youtube.com/watch', u'punch', u'2011', u'stealing', u'input', u'curb', u'bright', u'lung', u'90', u'release', u'auction', u'hate', u'citation', u'sort=new', u'remained', u'whose', u'beneficial', u'scenes', u'defeat', u'friction', u'gathering', u'bridge', u'superior', u'hash', u'sell', u'replace', u'page', u'ratio', u'designs', u'sentences', u'backpack', u'useful', u'portland', u'plans', u'emotions', u'motherboard', u'idiot', u'useful', u'incapable', u'?', u'exploring', u'donations', u'collecting', u'restaurant', u'panic', u'seriously', u'virginia', u'w', u'yasuo', u'documentation', u'renting', u'teaching', u'having', u'knowing', u'yeah', u'.', u'finished', u'sample', u'warrior', u\"'the\", u'might', u'mining', u'unfortunate', u'brothers', u'lets', u'odds', u'i', u'civilization', u'advertise', u'cleared', u'attend', u'continuing', u'iirc', u'arrest', u'image', u'comparable', u'pump', u'sports', u'provide', u'tend', u'remembering', u'to=/r/askreddit', u'flex', u'endless', u'ear', u'bros', u'amazing', u'now', u'sold', u'huh', u'immediate', u'headed', u'abortion', u'24/7', u'loading', u'(', u'perk', u'okay', u'him', u'innocent', u'catching', u'growing', u'expense', u'fucks', u'context', u'gen', u'clothes', u'coefficient', u'extremely', u'/r/advice', u'readers', u'heard', u'luke', u'properties', u'devices', u'murderers', u'ford', u'_count', u'envy', u'friendly', u'edgy', u'advocates', u'regulated', u'quote', u'intellectual', u'experiments', u'^this', u'use', u'resort', u'!', u'tracking', u'notable', u'edge', u'season', u'tell', u'gif', u'date', u'create', u'reporting', u'event', u'shall', u'you', u'coffee', u'standpoint', u'merits', u'challenged', u'roll', u'essential', u'says', u'robot', u'^^^-', u'type=card', u'kitchen', u'personal', u'attempts', u'forcing', u'tortured', u'1080p', u'//www.reddit.com/message/compose', u'starving', u'mad', u'relationship', u'grasp', u'eager', u'relative', u'ticket', u'guys', u'letting', u'package', u'misinformation', u'.', u'dedicated', u'*exactly*', u'sentences', u'npcs', u'packed', u'for', u'probably', u'airport', u'pod', u'challenger', u'instant', u'hoping', u'doctor', u'hour', u'internet', u'hills', u'rate', u'years', u'**click', u'r-r', u'reaching', u'faction', u'adapter', u'tends', u'profiles', u'spelling', u'optional', u'fiction', u'sprint', u'would', u'pointing', u'religions', u'nine', u'divorced', u'few', u'intentional', u'shining', u'hardest', u'ranged', u'sight', u'cata', u'calm', u'heroes', u'justin', u'warden', u'house', u'smelled', u'r', u'domain', u'thanks', u'the', u'rage', u'antis', u'aside', u'standard', u'disclaimer', u'monitors', u'jam', u'\\xa350', u'melt', u'ny', u'twins', u'dentist', u'stocks', u'would', u'trash', u'soundtrack', u'overwhelming', u'assist', u'caring', u'gaming', u'staying', u'compensation', u'shoulders', u'pcmr', u'instruction', u'clears', u'no', u'physics', u'teaching', u'speakers', u'linkffn', u'remained', u'knife', u'my', u'closer', u'dash', u'be', u'figure', u'irc', u';', u'out', u'lego', u'friendship', u'^^for', u'punch', u'&', u'rotation', u'maxed', u'restricted', u'expression', u'fucking', u\"'s\", u'couples', u'affects', u'wrong', u'names', u'de', u'honestly', u'mini', u'mini', u'heart', u\"''\", u'gems', u'european', u'alternatives', u'discussing', u'next', u'approve', u'hotel', u'mixing', u'cocktail', u'hello', u'abstract', u'self-promotion', u'controlled', u'hunt', u'sci-fi', u'cv', u'shifting', u'fewer', u'saga', u'allergic', u'stories', u'folder', u'problem', u'en', u'maybe', u'protection', u'officer', u'figures', u'include', u'toll', u'gone', u'woman', u'another', u'passion', u'thunder', u'genius', u'flat', u'facebook', u'//www.youtube.com/watch', u'sector', u'ignorance', u'door', u'cool', u'all', u'authorities', u'*download*', u'software', u'has', u'tax', u'mission', u'inch', u'suffered', u'convey', u'external', u'icon', u'academics', u'august', u'channel', u'skills', u'82', u'rest', u'elo', u'much', u'deaths', u'module', u'notable', u'silk', u'concerned', u'^^^feedback', u'su', u'wifi', u'badly', u'mentions', u'lands', u'whether', u'speakers', u'traded', u'incredibly', u'we', u'agg', u'lasted', u'sean', u'sucks', u'fate', u'passed', u'fabric', u'regions', u'ring', u'pg', u'outfits', u'driven', u'3-4', u'honest', u'rig', u'paranoid', u'strain', u'pyramid', u'wrap', u'suggesting', u'makeup', u'wednesday', u'qualified', u'imply', u'nearby', u'cracks', u'bank', u'contact', u'em', u'which', u'titan', u'various', u'say', u'candidate', u'good', u'lube', u'morty', u'phones', u'divorce', u'backstory', u'is', u'basic', u'provides', u'mega', u'teach', u'isis', u'lean', u'events', u'reasoning', u'cleaning', u'behaviour', u'gauge', u\"'s\", u'folk', u'admitting', u'opportunities', u'air', u'programs', u'tournament', u'events', u'/message/compose/', u'rim', u'exercises', u'beforehand', u'fans', u'more', u\"'d\", u'hundred', u'produce', u'conversation', u'closet', u'lynch', u'younger', u'resolution', u'politics', u'soldier', u'laying', u'initiative', u'never', u'wear', u'et', u'highway', u'carefully', u'gates', u'playoffs', u'pok\\xe9mon', u'cardio', u'financial', u\"''\", u'construction', u'up', u'tab', u'bath', u'appearance', u'zen', u'summoned', u'arrive', u'title', u'bothered', u'chores', u'minimize', u\"n't\", u'central', u'basically', u'spiders', u'x', u'rush', u'circumstances', u'equity', u'religious', u'rehabilitation', u'brains', u'falls', u'shallow', u'breathing', u'bases', u'lived', u'he/she', u'drugs', u'officer', u'shadow', u'is', u'such', u'utility', u'to=/r/askreddit', u'connected', u'reporting', u'fly', u'unaware', u'doompety', u'election', u'enable', u'//gatherer.wizards.com/pages/card/details.aspx', u'150', u'college', u'other', u'^^^-', u'utc', u'dice', u'agenda', u'explanation', u'veggies', u'streets', u'various', u'^^^to', u'tongue', u'crash', u'pretend', u'limits', u'during', u'touched', u'observed', u'waist', u'lawn', u'allowed', u'fitness', u'owners', u'forming', u'agent', u'priests', u'ist', u'0', u'throat', u'vs', u'completely', u'only', u'background', u'aiming', u'that', u'fulfilled', u'there', u'asking', u'how', u'alphabet', u'lack', u'geo', u'military', u'devs', u'heat', u'per', u\"n't\", u'upside', u'stands', u'ensure', u'fetish', u'systems', u'10k', u'multiplayer', u'traditional', u'vidilux', u'sand', u'vanessa', u'more', u'left', u'shipping', u'current|', u'mind', u'senator', u'subjects', u'lease', u'economic', u'lo', u'reserve', u'\\u2013', u'respond', u'yours', u'scenes', u'roaming', u'lane', u'p\\xe5', u'manufacturer', u'occasionally', u'soldiers', u'saw', u'male', u'film', u'tbc', u'homicides', u'severely', u'relief', u'passes', u'drop', u'spaces', u'silly', u'fundamental', u'army', u'consult', u'450', u'today', u'st.', u'completion', u'as', u'illness', u'sheet', u'murderers', u'amazed', u'ford', u'repost', u'players', u'burn', u'da', u'recipe', u'champions', u'permission', u'fallen', u'wherever', u'soccer', u'git', u'motherfucker', u'bikes', u'grenade', u'hilarious', u'in', u'drastically', u'i', u'sooner', u'university', u'purple', u'supposed', u'980ti', u'1k', u'easier', u'feel', u'who', u'charitable', u'that', u'trudeau', u'harmless', u'egypt', u'20to', u'edges', u'efficiency', u'ja', u';', u'devs', u'awesome', u'harm', u'weaker', u'suck', u'had', u'referenced', u'communicate', u'elo', u'contracts', u'consistency', u'playstyle', u'______', u'took', u'ally', u'kinda', u'immoral', u'wright', u'here', u'attitude', u'focus', u'integrity', u'its', u'charge', u'shots', u'shoot', u'resulted', u'removal', u'communist', u'gem', u'string', u'jealous', u'ward', u'person', u'doubles', u'years', u'0d', u'~~', u'wages', u'it', u'ra', u'own', u'trails', u'dad', u'responding', u'game', u'defenses', u'harder', u'stage', u'pushed', u'heads', u'grows', u'bat', u'christmas', u'equipped', u'elemental', u'zu', u'pissed', u'jedi', u'summoned', u'an', u'few', u'makes', u'trip', u'970', u'asians', u'phone', u'near', u'to=', u'free', u'gaming', u'depending', u'misunderstanding', u'has', u'following', u'contribute', u'timeline', u'ab', u'moms', u'vaping', u'outletpc', u'pleasant', u'jumping', u'chunk', u'begins', u'solved', u'nights', u'ppl', u'coefficient', u'seat', u'*bleep*', u'screw', u'netflix', u'container', u'shits', u'regard', u'we', u'sooner', u'selftext=true', u'owned', u'let', u'blame', u'piece', u'breed', u'chickens', u'penance', u'devoted', u'tagged', u'admit', u'faction', u'saint', u'dominance', u'independence', u'supply', u'hired', u'dinner', u'say', u'officially', u'jumper', u'bloody', u'nomination', u'categories', u'tools', u'wiki_', u'2011', u'owned', u'mountain', u'photos', u'remote', u'church', u'federal', u'mark', u'preferred', u'translate', u'chinese', u'rugby', u'jar', u'low', u'comp', u'nine', u'groups', u'subs', u'battery', u'dodge', u'bans', u'domain', u'husband', u'hence', u'shot', u'series', u'brings', u'incapable', u'implying', u'alarm', u'es', u'quality', u'brick', u'blows', u'would', u'edit', u'i\\u2019m', u'surely', u'kratom', u'competition', u'offensive', u'elves', u'message=', u'happiness', u'the', u'gospel', u'cute', u'p', u'ecc', u'gone', u'bf', u'10', u'afraid', u'taken', u'seattle', u'score', u'*prices', u'include', u'very', u'.', u'tpp', u'500', u'bethesda', u'saint', u'shine', u'considering', u'shadows', u'__', u'assume', u'partners', u'to=/r/randomactsofblowjob', u'gon', u'ac', u'sights', u'lube', u'sion', u'me', u'counting', u'2fr', u'george', u'checked', u'edited', u'qualify', u'did', u'pounds', u'must', u'components', u'``', u'tweaks', u'heat', u'history', u'nicely', u'currently', u'surgery', u'kids', u'stage', u'overwhelmed', u'disc', u'determine', u'interesting', u'uncomfortable', u'divorce', u'deliberately', u'nutrition', u'des', u'neat', u'shown', u'980', u'simultaneously', u'austin', u'ranges', u'mint', u'solve', u'army', u'amount', u'operates', u'korea', u'september', u'//github.com/janpetryk/reddit-bot', u'festival', u'style', u'spectrum', u'von', u'tony', u'rom', u'0', u'viable', u'professionally', u'say', u'different', u'claim', u'so-called', u'potential', u'laughing', u'level', u'tickets', u'important', u'masters', u'integrity', u'r', u'separation', u'repeat', u'edges', u'the', u'surgery', u'chris', u'reliable', u'inner', u'shit', u'limited', u'waste', u'depth', u'2012', u'horizon', u'gt', u'ethnicity', u'trapped', u'covered', u'dress', u'freak', u'fail', u'earlier', u'spend', u'includes', u'meant', u'reply', u'factory', u'tools', u'partner', u'dear', u'z', u'^|', u'insulin', u'*reviews*', u'^info', u'assume', u'even', u'irc', u'mentality', u'controls', u'the', u'florida', u'buys', u'approve', u'beam', u'vegetables', u'silent', u'during', u'wooden', u'yasuo', u'christians', u'extension', u'flames', u'federal', u'shooting', u'shorter', u'hog', u'rise', u'disc', u'bios', u'finished', u'relationships', u'fill', u'vegetables', u'weed', u'it', u'dass', u'ma', u'smarter', u'vulnerable', u'reviewed', u'inch', u'injuries', u'yadda', u'large', u'tebow', u')', u'wear', u'strategic', u'//github.com/buttscicles/tweetposter/issues', u'able', u'temple', u'casual', u'mechanics', u'opinions', u'dressing', u'messed', u'grounds', u'streams', u'mars', u'theoretical', u'violate', u'points', u'anti', u'un', u'bios', u'subreddit', u'citizens', u'checked']\n",
      "[u'nightmare', u'street', u'suggestions', u'&', u'cell', u'noone', u'jenner', u'multi', u'sir', u'organization', u'https', u'assassins', u'soil', u'instance', u'vote', u'2015-08-28', u'had', u'to=/r/randomactsofblowjob', u'rp', u'shaped', u'friendships', u'florida', u'shopping', u'the', u'during', u'adhd', u'sufficient', u'commission', u'proves', u'good', u'going', u'creators', u'rincewind', u'fucking', u'click', u'turned', u'rail', u'match', u'president', u'authority', u'hiding', u'spread', u'treasure', u'hiding', u'whoa', u'believing']\n",
      "[u'property', u'limiting', u'supportive', u'be', u'trial', u']', u'franchise', u'publicly', u'confirm', u'x', u'unique', u'decent', u'floors', u'specify', u'pride', u'stupid', u'few', u'clubs']\n",
      "[u'sorts', u'buyer']\n",
      "[u'flavor', u'structures', u'majority', u'arrives', u'olds', u'unaltered', u'seek', u'standing', u'works', u'database', u'hot', u'exclusively', u'imply', u'owns', u'shirt', u'raffle', u'have', u'assassin', u'modding', u'did', u'dating', u'waist', u'damaged', u'cleaning', u'george', u'films', u'biased', u'bigger', u'captain', u'weekend', u'crowns', u'price', u'rocky', u'oc', u'matters', u'angle', u\"''\", u'islamic', u'zerg', u'subtle', u'slim', u'travelling', u'admit', u'alarm', u'spaces', u'strike', u'based', u'have', u'depression', u'industrial', u'towards', u'guess', u'glass', u'exercising', u'supporters', u'working', u'junk', u'suggests', u'suggestions', u'details', u'liberty', u'reasons', u'throwing', u'el', u'dudes', u'project', u'judge', u'helicopter', u'i', u'living', u'//gatherer.wizards.com/pages/card/details.aspx', u'som', u'why', u'simpler', u'professionally', u'pockets', u'render', u'healthy', u'millions', u'twisting', u'anime', u'mapping', u'fields', u'utterly', u'scoring', u'international', u'tested', u'melee', u'square', u'ip', u'park', u'gun', u'vape', u'purchased', u'checked', u'murderers', u'milk', u'falling', u'lobby', u'charitable', u'automated', u'ease', u'bars', u'e.g', u'``', u'spell', u'dresses', u'links', u'cerberus', u'wants', u'homeless', u'discover', u'aside', u'ignoring', u'youre', u'proven', u'five', u'do', u'nzxt', u'excel', u'showed', u'justin', u'fork', u'produce', u'suit', u'tries', u'argument', u'shake', u'insane', u'reveal', u'2009', u'pretty', u'for', u'yours', u'commit', u'ulduar', u'baseball', u'randomly', u'britain', u'feds', u'ny', u'is', u'ncix', u'draw', u'all', u'tournaments', u'appropriate', u'navy', u'mechanics', u'between', u'edited', u'shops', u'switched', u'hang', u'we', u'hard', u'plates', u'carrying', u'envy', u'rap', u'occasional', u'subreddits', u'alaska', u'^^^', u'ourselves', u'problem', u'recovery', u'crappy', u'started', u'trial', u'send', u'revenge', u'suggestions', u'mess', u'aapl', u'egypt', u'the', u'not', u'manual', u'violent', u'one', u'mate', u'pushed', u'likes', u'generations', u'wife', u'two', u'miami', u'cursed', u'4', u'fantastic', u'happier', u'aspects', u'paint', u'shootings', u'moved', u'neighborhoods', u'stance', u'.', u'establish', u'tradition', u'sweat', u'brown', u'explaining', u'smoked', u'sec', u'god', u'dare', u'skinny', u'survival', u'starters', u'patron', u'before', u'clever', u'markets', u'sin', u'crack', u'implied', u'lol', u'forgot', u'cutting', u'does', u'domain', u'eggs', u'guard', u'nzxt', u'ram', u'lego', u'havent', u\"'*\", u'visited', u'lonely', u'leads', u'the', u'chinese', u'ross', u'this', u'deserve', u'really', u'nap', u'dodge', u'850', u'quitting', u'titles', u'gaining', u'bella', u'dual', u'working', u'is', u'3', u'settings', u'mate', u'supporting', u'round', u'occurs', u'your', u'senator', u'statement', u'countries', u'chocolate', u'grabbing', u'gank', u'dentist', u'brackets', u'hype', u'stating', u'issued', u'sweet', u'they', u'complexity', u'remained', u'french', u'programming', u'menus', u'love', u'pants', u'menu', u'initiation', u'old', u'meta', u'olaf', u'oc', u'co', u'discover', u'at', u'28randomactsofblowjob+or+randomactsofmuffdive', u'equality', u'libido', u'ob', u'butt', u'unaware', u'organized', u'forums', u'240', u'kick', u'freedom', u'cameras', u'repeating', u'or', u'recognize', u'therapy', u'producing', u'dick', u'edits', u'protected', u'}', u'**|**', u'concern', u'vocal', u'rugby', u'psu', u'asians', u'aug', u'slight', u'brady', u'programmed', u'already', u'exploring', u'era', u'introduce', u'sniper', u'mandatory', u'delta', u'ranking', u'mute', u'measure', u'ammunition', u'financial', u'controversy', u'legal', u'saying', u'150', u'rifle', u'emergency', u'afraid', u'wo', u'feeling', u'run', u'proxy', u'receive', u'indicates', u'optional', u'norm', u'warranty', u'league', u'other', u'tail', u'vr', u'stupid', u'bracket', u'iphone', u'previous', u'nor', u'ambitious', u'bucket', u'investment', u'replies', u'cops', u'deserve', u'commentary', u'shooting', u'rat', u'frustrated', u'belong', u'jewish', u'p.s', u'selling', u'accordingly', u'firing', u'shoulder', u'allen', u'pots', u'attach', u'disturbing', u'cis', u'excel', u'len', u'owner', u'~', u'boost', u'against', u'will', u'newegg', u'freaking', u'hadith', u'pickup', u'even', u'encountered', u'basket', u'se', u't=all', u'he', u'v', u'kit', u'lvl', u'+1', u'*very*', u'i', u'shit', u'divorce', u'ping', u'weights', u'ford', u'junk', u'conservatives', u'crisis', u'bonuses', u'tier', u'evaluation', u'tool', u'islam', u'fi', u'killer', u'ones', u'approve', u'spend', u'craft', u'played', u'experiencing', u'consensus', u'boys', u'concert', u'skins', u'coffee', u'plant', u'as', u'/message/compose', u'hazard', u'apart', u'breaker', u'noting', u'hilarious', u'light', u'foster', u'opposed', u'comment', u'une', u'everywhere', u'simple', u'better', u'wo', u'clip', u'team', u'reward', u'ab', u'impressive', u'appeared', u'\\\\n', u'wenn', u'perks', u'obtain', u'who', u'silent', u'demo', u'orientation', u'priced']\n",
      "[u'divine', u'seeds', u'*follows*', u'thoroughly', u'1k', u'neighborhood', u'druid', u'foolish', u'installed', u'communist', u'expense', u'details', u'submit', u'precise', u'monitors', u'illegal', u'wearing', u'key', u'kick', u'passing', u'theyre', u'cab', u'and', u'ignorance', u'friends', u'350', u'receiving', u'stands', u'mechanical', u'*he', u'town', u'kind', u'/compose/', u'bombs', u'mandatory', u'setup', u'keto', u',', u'mobility', u'tds', u'use', u'prisons', u'belief', u'^creator', u'have', u'banned', u'slot', u'lanes', u'filed', u'dated', u'legislation', u'because', u'television', u'mc', u'had', u'rise', u'election', u'foot', u'8.1', u'country', u'joints', u'crushed', u'hand', u'mgs', u'glasses', u'*bloop*', u'catch', u'ended', u'pride', u'shadow', u'bloody', u'seriousness', u'lion', u'router', u'clothing', u'pops', u'jobs', u'at', u'fits', u'ignorant', u'tank', u'divorced', u'of', u'spectrum', u'gtx', u'clock', u'tp', u'scares', u'fun', u'good', u'chasing', u'mark', u'andrew', u'hmm', u'safety', u'government', u'began', u'notifications', u'reasonable', u'it', u'minor', u'gain', u'squats', u'dedicated', u'\\xe5', u'reputable', u'everywhere', u'minded', u'programs', u'shoe', u'so', u'assassins', u'license', u'ready', u'federal', u'that', u'door', u'runs', u'28', u's', u'agenda', u'germans', u'spoiled', u'reform', u'fact', u'punishment', u'underlying', u'together', u'setting', u'+2', u'til', u'300', u'aesthetic', u'^^^not', u'sincerely', u'transfer', u'january', u'intact', u'anyone', u'i', u'host', u'markets', u'cans', u'alpha', u'75', u'upload', u'tell', u\"'d\", u'breath', u'egypt', u'mortal', u'renting', u'missing', u'refuse', u'pleasing', u'drive', u'dress', u'entity', u'advice', u'afaik', u'morality', u'sorta', u'translate', u'shop', u'attacks', u'awful', u'**^^^not', u'appreciate', u'whole', u'tool', u'lucky', u'jury', u'wow', u'delay', u'protoss', u'ele', u'*language*', u'stocks', u'hats', u'ongoing', u'performance', u'he', u'mum', u'exact', u'portion', u'hyper', u'chain', u'equally', u'failed', u'maker', u'practical', u'arms', u'provided', u'lg', u'tagged', u'the', u'does', u'crack', u'solid', u'twisting', u'shortly', u'weak', u'beans', u'donations', u'pointed', u'behind', u'pushing', u'correctly', u'keeper', u'standing', u'support', u'8', u'guys', u'brand', u'likewise', u'intellectual', u'excellent', u'punished', u'pink', u'blocking', u'submitting', u'within', u'boys', u'everywhere', u'bridges', u'bloodborne', u'mob', u'pit', u'70', u'check', u'responds', u'film', u'being', u'utility', u'korea', u'using', u'pictures', u'hours', u'hat', u'morality', u'penny', u'towards', u'similar', u'screws', u'definition', u'campaigns', u'browsing', u'anecdotal', u'smell', u'stab', u'health', u'powered', u'gamble', u'namely', u'underneath', u'pressing', u'drinks', u'runner', u'be', u'pet', u'later', u'mars', u'suggests', u'er', u'huge', u'propose', u'luck', u'cleared', u'socialist', u'decades', u'placement', u'confederacy', u'high|', u'solutions', u'roll', u'as', u'deeper', u'developer', u'recommend', u'brown', u'she', u'brought', u'story', u\"n't\", u'lg', u'faq', u'carrier', u'das', u'governments', u'vaguely', u'proper', u'silent', u'insult', u'elder', u'dutch', u'watches', u'random', u'bridges', u'discussions', u'debate', u'updating', u'bomb', u'points', u'plane', u'passing', u'prompt', u'had', u'yea', u'song', u'naive', u'qualify', u'made', u'immediate', u'operates', u'giveaway', u'sweep', u'fanfiction.net', u'designed', u'enough', u'efficient', u'both', u'summoned', u'jaw', u'worth', u'nerfed', u'musical', u'out', u'standard', u'framework', u'confession', u'felon', u'20a', u'paper', u'louder', u'context', u'priest', u'gt', u'pour', u'default', u'\\xe0', u'varied', u'tumblr|', u'medicine', u'jacket', u'freak', u'overall', u'rebuild', u'squat', u'unfortunate', u'dope', u'director', u'religions', u'random', u'filters', u'players', u'blow', u'hear', u'duty', u'friends', u'allergic', u'sauce', u'regarded', u'ebay', u'drafted', u'slim', u'tits', u'they\\u2019re', u'deliberately', u'utc', u'jumper', u'dogs', u'plat', u'anti', u'psychological', u'else', u'legs', u'resulted', u'word', u'ability', u'learn', u'*edit', u'//www.p0ody-files.com/ff_to_ebook/mobile/makeepub.php', u'no', u'argued', u'dressing', u'pour', u'whenever', u'^^^if', u'22', u'september', u'twitch', u'easiest', u'nature', u'powered', u'to', u'ensure', u'titles', u'cracked', u'hates', u'moderators', u'lift', u'lacks', u't=all', u'blog', u'violate', u'revolution', u'anecdote', u'breaker', u'gym', u'drama', u'infection', u'credits', u'brings', u'mb', u'ips', u'contractor', u'ost', u'pl', u'tracking', u'alone', u'feds', u'ammunition', u'ssr', u'oc', u'roman', u'allows', u'films', u'http', u'frozen', u'deliver', u'goals', u'brush', u'wilson', u'manner', u'fiscal', u'interact', u'desk', u'sacred', u'democrats', u'generator', u'provider', u'promote', u'on**', u'cas', u'feeling', u'customer', u'constitutional', u'unions', u'really', u'tree', u'do', u'defining', u'means', u'alongside', u'wod', u'ammo', u'without', u'various', u'shooters', u'blade', u'racial', u'you', u'basically', u'joint', u'stress', u'terrorist', u'websites', u'stood', u'event', u'since', u'ou', u'sales', u'can', u'dragging', u'sink', u'india', u'exhaust', u'mining', u'turbo', u'heading', u'withdrawal', u'turret', u'repo', u'bedroom', u'economics', u'badge', u'patrol', u'pride', u'died', u'mock', u'buff', u'citizens', u'implementation', u'gem', u'splitting', u'emily', u'classic', u'europeans', u'suitable', u'unaltered', u'reliable', u'^^^a', u'expecting', u'ask', u'009', u'doompety', u'spicy', u'leading', u'tablet', u'\\u201ci', u'pre', u'developing', u'basement', u'reputation', u'rpg', u'sand', u'gig', u'but', u'enjoyable', u'gathering', u'shine', u'reborn', u'1k', u'tinder', u'loop', u'&', u'shouldnt', u'butthurt', u'progression', u'heavy', u'when', u'childhood', u'researchers', u'heroin', u'represents', u'current', u'speeds', u'apologies', u',', u'covered', u'multi', u'restaurant', u'problematic', u'impression', u'approaching', u'adds', u'comic', u'monday', u'appeal', u'house', u'election', u'*language*', u'20of', u'charged', u'homicides', u'ssd', u'anxiety', u'grid', u'us', u'involved', u'because', u'any', u'information']\n",
      "[u'parody', u'pickup', u'toe', u'sort=new', u'studied', u'some', u'/compose/', u'collect', u'i', u'elder', u'hes', u'planets', u'americans', u'but', u'hyped', u'county', u'fiber', u'acting', u\"n't\", u'ambitious', u'of', u'prone', u'professionally', u'way', u'i', u'interview', u'paladin', u'sold', u'bubble', u'vacuum', u'mount', u'sharking', u'non', u\"c'est\", u'design', u'figures', u'goal', u'purposes', u'meh', u'phones', u'*and*', u'written', u'minor', u'shit', u'relating', u'cents', u'quitting', u'relaxing', u'clubs', u'borders', u'genius', u'inevitable', u'channel', u'beating', u'ad', u'tab', u'toe', u'hassle', u'rise', u'mounts', u'coaches', u'veggies', u'cache', u'``', u'harper', u'anyway', u'paragraphs', u\"'m\", u'dump', u'or', u'teens', u'hundred', u'threatened', u'mountain', u'tape', u'hood', u'defenders', u'alan', u'jump', u'rose', u'someone', u'germany', u'pleasing', u'fetish', u'source', u'boat', u'knowledge', u'microsoft', u'budgets', u'jews', u'brush', u'plastic', u'nintendo', u'multiple', u'ensure', u'oompa', u'pansy', u',', u'they', u'#', u'sellers', u'case', u\"'s\", u'coast', u'row', u'cameras', u'tinder', u'hospital', u'basically', u'intact']\n",
      "[u'minimize', u'essay', u'change', u'charges', u'objectives', u'stone', u'shift', u'languages', u'circle', u'transplant', u'tech', u'adapter', u'^^to', u'shopping', u'realised', u'tab', u'to=/r/totesmessenger', u'culture', u'critical', u'execute', u'phones', u'five', u'race', u'son', u'fiscal', u'gen', u'theoretical', u'victims', u'ripped', u'jumps', u'romantic', u'few', u'vegan', u'enter', u'panels', u'humans', u'flaw', u'efficiently', u'i', u'businesses', u'warrior', u'gun', u'though', u'others', u'tendency', u'furthermore', u'let', u'talk', u'tweaks', u'samsung', u'friend', u'relative', u'line', u'favorites', u'use', u'deals', u'yes', u'express', u'regen', u'arduino', u'alternate', u'chains', u'is', u'aunt', u'tradition', u'believed', u'infinitely', u'pushes', u'heals', u'meal', u'jeans', u'download', u'positions', u'acceptance', u'waves', u'cheating', u'bros', u'to=', u'patron', u'using', u'heroin', u'increased', u'manager', u'gained', u'plant', u'cardio', u'increasingly', u'seattle', u'll', u'tournaments', u'i', u'whole', u'``', u'transactions', u'peak', u'e3', u'principal', u'nonetheless', u'disable', u'radically', u'momentum', u'sympathetic', u'ammo', u'mike', u'configuration', u'disparity', u'drives', u'mana', u'pulled', u'a', u'end', u'tough', u'http', u'complaining', u'opening', u'nearby', u'islam', u'jp', u'summon', u'convicted', u'caps', u'assumptions', u'//www.reddit.com/r/writingprompts/comments/351ym4/ot_rwritingprompts_new_feature_in_testing/', u'session', u'reason', u'response', u'stuck', u'gives', u'sequence', u'coming', u'pilots', u'at', u'pretend', u'challenges', u'connect', u'mistaken', u'helped', u'art', u'sending', u'clopidogrel', u'reason', u'glasses', u\"n't\", u'tells', u'stereotype', u'demons', u'apples', u'that', u'influence', u'illegal', u'sugar', u'inches', u'cell', u'fetish', u'bros', u'party', u'bow', u'contrary', u'entirely', u'device', u'versions', u'beats', u'tales', u'my', u'squad', u\"n't\", u'reduces', u'plan', u'winning', u'playoffs', u'vaccine', u'handling', u'things', u'loop', u'plastic', u'insisted', u'six', u'project', u'noone', u'disc', u'entrance', u'splash', u'som', u'sell', u'charger', u'precisely', u'opponent', u'full', u'true', u'suspicious', u'albums', u'min', u'says', u'remote', u'genuinely', u'hopes', u'phone', u'idea', u'foolish', u'on', u'nearest', u'defender', u'were', u'^^bot', u'pile', u'injury', u'interactions', u'able', u'chip', u'installing', u'principle', u'feminists', u'destruction', u'look', u'blink', u'10,000', u'green', u'finding', u'everytime', u'rocky', u'*status*', u'td', u'gon', u'essay', u'prices', u'attacks', u'shelf', u'chickens', u'decides', u'slightly', u'pretending', u'**the', u'ha', u'to=/r/totesmessenger', u'also', u'gun', u'locking', u'ambitious', u'differ', u'fans', u'restrooms', u'scrap', u'chunks', u'radically', u'attacking', u'conclusion', u'works', u'beauty', u'performed', u'submitted', u'pl', u'jumps', u'***', u'direction', u'layer', u'bring', u'halfway', u'aluminum', u'accountable', u'scattered', u'gt', u'is', u'way', u'git', u'why', u'needing', u'collective', u'specified', u'depressed', u'nut', u'governments', u'contains', u'denmark', u'paladin', u'fair', u'cannon', u'(', u'existing', u'sleeping', u'makes', u'convince', u'younger', u'nurse', u'obligation', u'-', u'(', u'ear', u'versus', u'persons', u'independently', u'//0fs.me/yis5stledr', u'hearthstone', u'dm', u'brisbane', u'i5', u'to', u'voltage', u'esl', u'ad', u'arab', u'statement', u'disturbing', u'deals', u'up', u'polls', u'stones', u'cosmetics', u'dynamic', u'bad', u'involved', u'darius', u'guesses', u'creations', u'awful', u'900', u'assassin', u'accused', u'y', u'industrial', u'tweaks', u'explicit', u'acting', u'green', u'stories', u'realizing', u'drive', u'weights', u'tap', u'go', u'row', u'garbage', u'reads', u'lone', u'itunes', u'adamant', u'artist', u'workplace', u'8gb', u'mods', u'transportation', u'paid', u'resolved', u'activities', u'recon', u'designers', u'fallout', u'okay', u'clearly', u'thing', u'you', u'airing', u'yeah', u'existed', u'climate', u'moderator', u'finance', u'emotions', u'slurs', u'install', u'listentothis', u'reminded', u'contributing', u'austin', u'woman', u'voluntary', u'issued', u'tends', u'assembly', u'cold', u'loose', u'repeating', u'teachers', u'lighting', u'merits', u'method', u'words', u'third', u'donation', u'^by', u'pickup', u'stayed', u'adds', u'tha', u'gen', u'rework', u'roll', u'^created', u'roles', u'gig', u'7.', u'june', u'am', u'slap', u'incapable', u'performance', u'2.', u'gtx', u'originally', u'effect', u'and', u'dwellings', u'http', u'macbook', u'programs', u'tom', u'burns', u'refer', u'has', u'bang', u'be', u'called', u'enforce', u'troll', u'industrial', u'here', u'//github.com/meditonsin/nightmirrormoon']\n"
     ]
    }
   ],
   "source": [
    "def generate_sentence(model):\n",
    "    # We start the sentence with the start token\n",
    "    new_sentence = [word_to_index[sentence_start_token]]\n",
    "    # Repeat until we get an end token\n",
    "    while not new_sentence[-1] == word_to_index[sentence_end_token]:\n",
    "        next_word_probs = model.forward_propagation(new_sentence)\n",
    "        sampled_word = word_to_index[unknown_token]\n",
    "        # We don't want to sample unknown words\n",
    "        while sampled_word == word_to_index[unknown_token]:\n",
    "            pvals = next_word_probs[0][0] # use [0][0] instead of flatten().\n",
    "            #print pvals\n",
    "            #print np.sum(pvals)\n",
    "            samples = np.random.multinomial(1, pvals)\n",
    "            sampled_word = np.argmax(samples)\n",
    "        new_sentence.append(sampled_word)\n",
    "    sentence_str = [index_to_word[x] for x in new_sentence[1:-1]]\n",
    "    print sentence_str\n",
    "    return sentence_str\n",
    "\n",
    "num_sentences = 10\n",
    "senten_min_length = 7\n",
    "\n",
    "for i in range(num_sentences):\n",
    "    sent = []\n",
    "    # We want long sentences, not sentences with one or two words\n",
    "    while len(sent) < senten_min_length:\n",
    "        sent = generate_sentence(model)\n",
    "    print \" \".join(sent)"
   ]
  },
  {
   "cell_type": "markdown",
   "metadata": {},
   "source": [
    "A few selected (censored) sentences. I added capitalization.\n",
    "\n",
    "- Anyway, to the city scene you're an idiot teenager.\n",
    "- What ? ! ! ! ! ignore!\n",
    "- Screw fitness, you're saying: https\n",
    "- Thanks for the advice to keep my thoughts around girls.\n",
    "- Yep, please disappear with the terrible generation.\n",
    "\n",
    "Looking at the generated sentences there are a few interesting things to note. The model successfully learn syntax. It properly places commas (usually before and's and or's) and ends sentence with punctuation. Sometimes it mimics internet speech such as multiple exclamation marks or smileys.\n",
    "\n",
    "However, the vast majority of generated sentences don't make sense or have grammatical errors. One reason could be that we did not train our network long enough (or didn't use enough training data). That may be true, but it's most likely not the main reason. **Our vanilla RNN  can't generate meaningful text because it's unable to learn dependencies between words that are several steps apart**. That's also why RNNs failed to gain popularity when they were first invented. They were beautiful in theory but didn't work well in practice, and we didn't immediately understand why.\n",
    "\n",
    "Fortunately, the difficulties in training RNNs are [much better understood](http://arxiv.org/abs/1211.5063) now. In the next part of this tutorial we will explore the Backpropagation Through Time (BPTT) algorithm in more detail and demonstrate what's called the *vanishing gradient problem*. This will motivate our move to more sophisticated RNN models, such as LSTMs, which are the current state of the art for many tasks in NLP (and can generate much better reddit comments!).  Everything you learned in this tutorial also applies to LSTMs and other RNN models, so don't feel discouraged if the results for a vanilla RNN are worse then you expected.\n"
   ]
  },
  {
   "cell_type": "code",
   "execution_count": null,
   "metadata": {
    "collapsed": true
   },
   "outputs": [],
   "source": []
  }
 ],
 "metadata": {
  "kernelspec": {
   "display_name": "Python 2",
   "language": "python",
   "name": "python2"
  },
  "language_info": {
   "codemirror_mode": {
    "name": "ipython",
    "version": 2
   },
   "file_extension": ".py",
   "mimetype": "text/x-python",
   "name": "python",
   "nbconvert_exporter": "python",
   "pygments_lexer": "ipython2",
   "version": "2.7.12"
  }
 },
 "nbformat": 4,
 "nbformat_minor": 1
}
